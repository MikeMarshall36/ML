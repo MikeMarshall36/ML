{
  "cells": [
    {
      "cell_type": "markdown",
      "metadata": {
        "id": "8KlxX_oAzufn"
      },
      "source": [
        "# Numpy"
      ]
    },
    {
      "cell_type": "markdown",
      "metadata": {
        "id": "uqH7Zq02zufr"
      },
      "source": [
        "Материалы:\n",
        "* Макрушин С.В. \"Лекция 1: Библиотека Numpy\"\n",
        "* https://numpy.org/doc/stable/user/index.html\n",
        "* https://numpy.org/doc/stable/reference/index.html"
      ]
    },
    {
      "cell_type": "markdown",
      "metadata": {
        "id": "k3D-WiTFzufs"
      },
      "source": [
        "## Задачи для совместного разбора"
      ]
    },
    {
      "cell_type": "markdown",
      "metadata": {
        "id": "_vBV3vZzzuft"
      },
      "source": [
        "1. Сгенерировать двухмерный массив `arr` размерности (4, 7), состоящий из случайных действительных чисел, равномерно распределенных в диапазоне от 0 до 20. Нормализовать значения массива с помощью преобразования вида  $𝑎𝑥+𝑏$  так, что после нормализации максимальный элемент масcива будет равен 1.0, минимальный 0.0"
      ]
    },
    {
      "cell_type": "code",
      "execution_count": null,
      "metadata": {
        "id": "LVccu8Kxzuft",
        "colab": {
          "base_uri": "https://localhost:8080/"
        },
        "outputId": "1a90b5d3-8437-461f-fba4-69c491ef9d07"
      },
      "outputs": [
        {
          "output_type": "stream",
          "name": "stdout",
          "text": [
            "[[ 1.73953224 12.60796742  4.26973844 19.99775989  9.21797544  4.63311818\n",
            "   4.62541039]\n",
            " [11.26779031  9.86464113 14.27700544 10.72115981 15.79282106 13.26072386\n",
            "  15.68232966]\n",
            " [ 2.59030296 18.75670912  9.41141369  4.27986478  2.5092257   0.24375227\n",
            "   6.3382847 ]\n",
            " [12.7147899   2.72830466 18.51793304  0.13776126 18.66439202 19.91613343\n",
            "   7.18118725]]\n",
            "[[0.08065313 0.62790569 0.20805526 1.         0.45721122 0.22635233\n",
            "  0.22596422]\n",
            " [0.56042446 0.48977243 0.71194588 0.53290027 0.78827094 0.66077359\n",
            "  0.78270743]\n",
            " [0.12349153 0.93751003 0.46695131 0.20856515 0.11940909 0.00533691\n",
            "  0.31221168]\n",
            " [0.63328447 0.13044026 0.92548706 0.         0.93286163 0.99588991\n",
            "  0.3546539 ]]\n"
          ]
        }
      ],
      "source": [
        "import numpy as np\n",
        "arr = np.random.rand(4,7)*20\n",
        "#arr2max ==1, arr2min ==0\n",
        "#max(arr)->1, arr1 = arr/max(arr), max(arr1) ==1,\n",
        "#min(arr1) = min(arr)/max(arr) \n",
        "#------\n",
        "#min(arr)->0, arr1 = arr - min(arr), min(arr1)==0,\n",
        "#max(arr1) = max(arr) - min(arr)\n",
        "#arr2 = arr1/max(arr)\n",
        "arr_new = arr/(arr.max() - arr.min())+arr.min()/(arr.min() - arr.max())\n",
        "print(arr)\n",
        "print(arr_new)"
      ]
    },
    {
      "cell_type": "markdown",
      "metadata": {
        "id": "M1bHZJCtzufu"
      },
      "source": [
        "2. Создать матрицу 8 на 10 из случайных целых (используя модуль `numpy.random`) чисел из диапозона от 0 до 10 и найти в ней строку (ее индекс и вывести саму строку), в которой сумма значений минимальна."
      ]
    },
    {
      "cell_type": "code",
      "source": [
        "arr = np.random.randint(0,11,(8, 10))\n",
        "print(arr)\n",
        "print(f'Элементы строки: {arr[np.argmin(np.sum(arr, axis=1))]}, Индекс: {np.argmin(np.sum(arr, axis=1))}')"
      ],
      "metadata": {
        "colab": {
          "base_uri": "https://localhost:8080/"
        },
        "id": "zNiPdIt64FfE",
        "outputId": "eac5ecf3-2dd5-4d6a-9403-32b1c60d17d1"
      },
      "execution_count": null,
      "outputs": [
        {
          "output_type": "stream",
          "name": "stdout",
          "text": [
            "[[ 2  4  5  8 10 10  7 10  0  7]\n",
            " [ 5  5  6  5  2  1  0  9  3  5]\n",
            " [ 8 10  4  0  9  3  1  1  3  7]\n",
            " [ 0  9  0  5  6  3  0  7  8 10]\n",
            " [ 3  7  9  5  8  5  7  4  2  6]\n",
            " [ 7  0  7  2  5  8  3  0  4  8]\n",
            " [ 8  9  6  8 10  5  0 10  1  9]\n",
            " [ 4  3  7  7  4  5  7  1 10  9]]\n",
            "Элементы строки: [5 5 6 5 2 1 0 9 3 5], Индекс: 1\n"
          ]
        }
      ]
    },
    {
      "cell_type": "markdown",
      "metadata": {
        "id": "RG2tWIj_zufu"
      },
      "source": [
        "3. Найти евклидово расстояние между двумя одномерными векторами одинаковой размерности."
      ]
    },
    {
      "cell_type": "code",
      "source": [
        "a = np.array([10, 20])\n",
        "b = np.array([3, -5])\n",
        "res_1 = np.sqrt(((b - a)**2).sum())\n",
        "res_2 = np.linalg.norm(b-a)\n",
        "print(res_1 == res_2)"
      ],
      "metadata": {
        "colab": {
          "base_uri": "https://localhost:8080/"
        },
        "id": "2AifE78m7az8",
        "outputId": "65c16670-a5ad-46ee-8979-ea9026d0d4b4"
      },
      "execution_count": null,
      "outputs": [
        {
          "output_type": "stream",
          "name": "stdout",
          "text": [
            "True\n"
          ]
        }
      ]
    },
    {
      "cell_type": "markdown",
      "metadata": {
        "id": "iKr1ynKdzufv"
      },
      "source": [
        "4. Решить матричное уравнение `A*X*B=-C` - найти матрицу `X`. Где `A = [[-1, 2, 4], [-3, 1, 2], [-3, 0, 1]]`, `B=[[3, -1], [2, 1]]`, `C=[[7, 21], [11, 8], [8, 4]]`."
      ]
    },
    {
      "cell_type": "code",
      "source": [
        "A = np.array([[-1, 2, 4], [-3, 1, 2], [-3, 0, 1]])\n",
        "B = np.array([[3, -1], [2, 1]])\n",
        "C = np.array([[7, 21], [11, 8], [8, 4]])\n",
        "\n",
        "X = np.linalg.inv(A) @ (-C) @ np.linalg.inv(B)\n",
        "\n",
        "print(X)"
      ],
      "metadata": {
        "colab": {
          "base_uri": "https://localhost:8080/"
        },
        "id": "UJyeNM0t8IcQ",
        "outputId": "8adac583-77a2-4f74-93c3-3fbce4d9be5a"
      },
      "execution_count": null,
      "outputs": [
        {
          "output_type": "stream",
          "name": "stdout",
          "text": [
            "[[ 1.00000000e+00  5.32907052e-16]\n",
            " [-2.00000000e+00  1.00000000e+00]\n",
            " [ 3.00000000e+00 -4.00000000e+00]]\n"
          ]
        }
      ]
    },
    {
      "cell_type": "markdown",
      "metadata": {
        "id": "Qwjm5BsGzufv"
      },
      "source": [
        "## Лабораторная работа №1"
      ]
    },
    {
      "cell_type": "markdown",
      "metadata": {
        "id": "RdwL4gnZzufw"
      },
      "source": [
        "Замечание: при решении данных задач не подразумевается использования циклов или генераторов Python, если в задании не сказано обратного. Решение должно опираться на использования функционала библиотеки `numpy`."
      ]
    },
    {
      "cell_type": "markdown",
      "metadata": {
        "id": "xxL_Igvzzufw"
      },
      "source": [
        "1. Файл `minutes_n_ingredients.csv` содержит информацию об идентификаторе рецепта, времени его выполнения в минутах и количестве необходимых ингредиентов. Считайте данные из этого файла в виде массива `numpy` типа `int32`, используя `np.loadtxt`. Выведите на экран первые 5 строк массива."
      ]
    },
    {
      "cell_type": "code",
      "source": [
        "file = np.loadtxt('minutes_n_ingredients.csv', skiprows=1, delimiter=',', max_rows=5, dtype='int32')\n",
        "print(file)"
      ],
      "metadata": {
        "colab": {
          "base_uri": "https://localhost:8080/"
        },
        "id": "7XyUkz4S9xmM",
        "outputId": "58f05cb5-216d-4cb3-9b2e-15b8bbbdd239"
      },
      "execution_count": null,
      "outputs": [
        {
          "output_type": "stream",
          "name": "stdout",
          "text": [
            "[[127244     60     16]\n",
            " [ 23891     25      7]\n",
            " [ 94746     10      6]\n",
            " [ 67660      5      6]\n",
            " [157911     60     14]]\n"
          ]
        }
      ]
    },
    {
      "cell_type": "markdown",
      "metadata": {
        "id": "Hu7T_iPuzufx"
      },
      "source": [
        "2. Вычислите среднее значение, минимум, максимум и медиану по каждому из столбцов, кроме первого."
      ]
    },
    {
      "cell_type": "code",
      "source": [
        "file = np.loadtxt('minutes_n_ingredients.csv', skiprows=1, delimiter=',', dtype='int32')\n",
        "mean_2 = np.mean(file[:,(1, 2)], axis=0)\n",
        "print(mean_2)\n",
        "max = np.max(file[:,(1, 2)], axis=0)\n",
        "print(max)\n",
        "min = np.min(file[:,(1, 2)], axis=0)\n",
        "print(min)\n",
        "median = np.median(file[:,(1, 2)], axis=0)\n",
        "print(median)\n"
      ],
      "metadata": {
        "colab": {
          "base_uri": "https://localhost:8080/"
        },
        "id": "GyjDjkO2_57G",
        "outputId": "d88c50cc-1e69-4b81-e862-11c29c18d231"
      },
      "execution_count": null,
      "outputs": [
        {
          "output_type": "stream",
          "name": "stdout",
          "text": [
            "[2.16010017e+04 9.05528000e+00]\n",
            "[2147483647         39]\n",
            "[0 1]\n",
            "[40.  9.]\n"
          ]
        }
      ]
    },
    {
      "cell_type": "markdown",
      "metadata": {
        "id": "XAoSrmfKzufx"
      },
      "source": [
        "3. Ограничьте сверху значения продолжительности выполнения рецепта значением квантиля $q_{0.75}$. "
      ]
    },
    {
      "cell_type": "code",
      "source": [
        "val = np.quantile(file[:, 1:2], 0.75)\n",
        "print(val)\n",
        "file = file[file[:,1]<=val]\n",
        "file.shape"
      ],
      "metadata": {
        "colab": {
          "base_uri": "https://localhost:8080/"
        },
        "id": "XSkCAlmGEobu",
        "outputId": "25c77e30-ed78-437c-9662-901df677dbb9"
      },
      "execution_count": null,
      "outputs": [
        {
          "output_type": "stream",
          "name": "stdout",
          "text": [
            "65.0\n"
          ]
        },
        {
          "output_type": "execute_result",
          "data": {
            "text/plain": [
              "(75461, 3)"
            ]
          },
          "metadata": {},
          "execution_count": 12
        }
      ]
    },
    {
      "cell_type": "markdown",
      "metadata": {
        "id": "pKlyRMkAzufx"
      },
      "source": [
        "4. Посчитайте, для скольких рецептов указана продолжительность, равная нулю. Замените для таких строк значение в данном столбце на 1."
      ]
    },
    {
      "cell_type": "code",
      "source": [
        "mask = (file == 0)\n",
        "print(len(file[mask]))\n",
        "np.place(file[:,1], file[:, 1]==0, 1)"
      ],
      "metadata": {
        "colab": {
          "base_uri": "https://localhost:8080/"
        },
        "id": "kiiyrV8VFSy8",
        "outputId": "5f5ff60e-fba1-4f6c-fac0-7b74a256064c"
      },
      "execution_count": null,
      "outputs": [
        {
          "output_type": "stream",
          "name": "stdout",
          "text": [
            "479\n"
          ]
        }
      ]
    },
    {
      "cell_type": "markdown",
      "metadata": {
        "id": "pk4n6Ozbzufy"
      },
      "source": [
        "5. Посчитайте, сколько уникальных рецептов находится в датасете."
      ]
    },
    {
      "cell_type": "code",
      "source": [
        "un = np.unique(file[:, (1, 2)], axis=0)\n",
        "un.size"
      ],
      "metadata": {
        "colab": {
          "base_uri": "https://localhost:8080/"
        },
        "id": "2ZaUkup8MYGz",
        "outputId": "a45e9743-bcb1-4cd1-8e06-0e7ad9f6fd24"
      },
      "execution_count": null,
      "outputs": [
        {
          "output_type": "execute_result",
          "data": {
            "text/plain": [
              "2250"
            ]
          },
          "metadata": {},
          "execution_count": 14
        }
      ]
    },
    {
      "cell_type": "markdown",
      "metadata": {
        "id": "uOScX9XHzufy"
      },
      "source": [
        "6. Сколько и каких различных значений кол-ва ингредиентов присутвует в рецептах из датасета?"
      ]
    },
    {
      "cell_type": "code",
      "source": [
        "print(np.unique(file[:, 2]))\n",
        "len(np.unique(file[:, 2]))"
      ],
      "metadata": {
        "colab": {
          "base_uri": "https://localhost:8080/"
        },
        "id": "VSUXVGyjNcqQ",
        "outputId": "bf3f7b5e-f50d-434b-bee2-0811e384d06e"
      },
      "execution_count": null,
      "outputs": [
        {
          "output_type": "stream",
          "name": "stdout",
          "text": [
            "[ 1  2  3  4  5  6  7  8  9 10 11 12 13 14 15 16 17 18 19 20 21 22 23 24\n",
            " 25 26 27 28 29 30 33 34]\n"
          ]
        },
        {
          "output_type": "execute_result",
          "data": {
            "text/plain": [
              "32"
            ]
          },
          "metadata": {},
          "execution_count": 15
        }
      ]
    },
    {
      "cell_type": "markdown",
      "metadata": {
        "id": "QnBsMluzzufy"
      },
      "source": [
        "7. Создайте версию массива, содержащую информацию только о рецептах, состоящих не более чем из 5 ингредиентов."
      ]
    },
    {
      "cell_type": "code",
      "source": [
        "mask = file[:, 2] <=5\n",
        "file_2 = file[mask]\n",
        "file_2.shape"
      ],
      "metadata": {
        "colab": {
          "base_uri": "https://localhost:8080/"
        },
        "id": "LK_n39V-OU7s",
        "outputId": "4b9a4126-5685-4e81-e96f-16c9d74293c1"
      },
      "execution_count": null,
      "outputs": [
        {
          "output_type": "execute_result",
          "data": {
            "text/plain": [
              "(14890, 3)"
            ]
          },
          "metadata": {},
          "execution_count": 16
        }
      ]
    },
    {
      "cell_type": "markdown",
      "metadata": {
        "id": "rdyTD63izufy"
      },
      "source": [
        "8. Для каждого рецепта посчитайте, сколько в среднем ингредиентов приходится на одну минуту рецепта. Найдите максимальное значение этой величины для всего датасета"
      ]
    },
    {
      "cell_type": "code",
      "source": [
        "(file[:, 2]/file[:, 1]).max()"
      ],
      "metadata": {
        "colab": {
          "base_uri": "https://localhost:8080/"
        },
        "id": "uq__HpsWP52Y",
        "outputId": "3a74b0f9-a8e6-463f-b7d6-3a3e41adddb6"
      },
      "execution_count": null,
      "outputs": [
        {
          "output_type": "execute_result",
          "data": {
            "text/plain": [
              "24.0"
            ]
          },
          "metadata": {},
          "execution_count": 17
        }
      ]
    },
    {
      "cell_type": "markdown",
      "metadata": {
        "id": "H7KlIzmUzufz"
      },
      "source": [
        "9. Вычислите среднее количество ингредиентов для топ-100 рецептов с наибольшей продолжительностью"
      ]
    },
    {
      "cell_type": "code",
      "source": [
        "file[file[:, 1].argsort()[::-1]][:100, 2].mean()"
      ],
      "metadata": {
        "colab": {
          "base_uri": "https://localhost:8080/"
        },
        "id": "gXnw_Ls4Qn6v",
        "outputId": "f259b686-048c-456f-eafd-40730604b115"
      },
      "execution_count": null,
      "outputs": [
        {
          "output_type": "execute_result",
          "data": {
            "text/plain": [
              "10.06"
            ]
          },
          "metadata": {},
          "execution_count": 18
        }
      ]
    },
    {
      "cell_type": "markdown",
      "metadata": {
        "id": "FPCuXFAXzufz"
      },
      "source": [
        "10. Выберите случайным образом и выведите информацию о 10 различных рецептах"
      ]
    },
    {
      "cell_type": "code",
      "source": [
        "file[np.random.randint(file.shape[0], size=10),:]"
      ],
      "metadata": {
        "colab": {
          "base_uri": "https://localhost:8080/"
        },
        "id": "0zFotixbTW0z",
        "outputId": "b92e8326-089d-414b-e9f8-fa3d8b85cca0"
      },
      "execution_count": null,
      "outputs": [
        {
          "output_type": "execute_result",
          "data": {
            "text/plain": [
              "array([[ 61251,     20,     12],\n",
              "       [384233,     60,     18],\n",
              "       [468146,     60,      7],\n",
              "       [ 56398,     25,      9],\n",
              "       [232454,     35,      4],\n",
              "       [158043,     50,      9],\n",
              "       [496609,     15,      3],\n",
              "       [395909,     20,     10],\n",
              "       [148961,     60,     13],\n",
              "       [ 60832,     40,      9]], dtype=int32)"
            ]
          },
          "metadata": {},
          "execution_count": 19
        }
      ]
    },
    {
      "cell_type": "markdown",
      "metadata": {
        "id": "sHZ2_kydzufz"
      },
      "source": [
        "11. Выведите процент рецептов, кол-во ингредиентов в которых меньше среднего."
      ]
    },
    {
      "cell_type": "code",
      "source": [
        "mask = file[:, 2] < np.mean(file[:, 2])\n",
        "print(100*len(file[mask])/len(file))"
      ],
      "metadata": {
        "colab": {
          "base_uri": "https://localhost:8080/"
        },
        "id": "Dyu2mloLUiZX",
        "outputId": "6abcebe6-08e6-4a95-a279-559050e1d87d"
      },
      "execution_count": null,
      "outputs": [
        {
          "output_type": "stream",
          "name": "stdout",
          "text": [
            "52.51056837306688\n"
          ]
        }
      ]
    },
    {
      "cell_type": "markdown",
      "metadata": {
        "id": "M9LPheAuzufz"
      },
      "source": [
        "12. Назовем \"простым\" такой рецепт, длительность выполнения которого не больше 20 минут и кол-во ингредиентов в котором не больше 5. Создайте версию датасета с дополнительным столбцом, значениями которого являются 1, если рецепт простой, и 0 в противном случае."
      ]
    },
    {
      "cell_type": "code",
      "source": [
        "mask_1 = (file[:, 1] <= 20) & (file[:, 2] <= 5)\n",
        "\n",
        "new_file = np.c_[file, mask_1]\n",
        "new_file"
      ],
      "metadata": {
        "colab": {
          "base_uri": "https://localhost:8080/"
        },
        "id": "S5wppYROVHi4",
        "outputId": "258f3abb-240a-455d-e1e0-eba18ab38b37"
      },
      "execution_count": null,
      "outputs": [
        {
          "output_type": "execute_result",
          "data": {
            "text/plain": [
              "array([[127244,     60,     16,      0],\n",
              "       [ 23891,     25,      7,      0],\n",
              "       [ 94746,     10,      6,      0],\n",
              "       ...,\n",
              "       [ 43407,     35,      7,      0],\n",
              "       [498432,     65,     15,      0],\n",
              "       [370915,      5,      4,      1]], dtype=int32)"
            ]
          },
          "metadata": {},
          "execution_count": 21
        }
      ]
    },
    {
      "cell_type": "markdown",
      "metadata": {
        "id": "YN79mNk6zuf0"
      },
      "source": [
        "13. Выведите процент \"простых\" рецептов в датасете"
      ]
    },
    {
      "cell_type": "code",
      "source": [
        "mask = (new_file[:, 3] == 1)\n",
        "print(100*len(new_file[mask])/len(file))"
      ],
      "metadata": {
        "colab": {
          "base_uri": "https://localhost:8080/"
        },
        "id": "jDIPQ6Q8Wfzi",
        "outputId": "0970f4ee-041f-4b31-b124-6097a740678f"
      },
      "execution_count": null,
      "outputs": [
        {
          "output_type": "stream",
          "name": "stdout",
          "text": [
            "12.65819429904189\n"
          ]
        }
      ]
    },
    {
      "cell_type": "markdown",
      "metadata": {
        "id": "2D9TN1Rpzuf0"
      },
      "source": [
        "14. Разделим рецепты на группы по следующему правилу. Назовем рецепты короткими, если их продолжительность составляет менее 10 минут; стандартными, если их продолжительность составляет более 10, но менее 20 минут; и длинными, если их продолжительность составляет не менее 20 минут. Создайте трехмерный массив, где нулевая ось отвечает за номер группы (короткий, стандартный или длинный рецепт), первая ось - за сам рецепт и вторая ось - за характеристики рецепта. Выберите максимальное количество рецептов из каждой группы таким образом, чтобы было возможно сформировать трехмерный массив. Выведите форму полученного массива."
      ]
    },
    {
      "cell_type": "code",
      "execution_count": null,
      "metadata": {
        "id": "_nbCiAHKzuf0",
        "colab": {
          "base_uri": "https://localhost:8080/"
        },
        "outputId": "a101bbe1-529a-49d3-c57d-d9d4a01d2aee"
      },
      "outputs": [
        {
          "output_type": "execute_result",
          "data": {
            "text/plain": [
              "array([[[ 67660,      5,      6,      0],\n",
              "        [366174,      7,      9,      0],\n",
              "        [204134,      5,      3,      1],\n",
              "        ...,\n",
              "        [420725,      5,      3,      1],\n",
              "        [  4747,      1,      9,      0],\n",
              "        [370915,      5,      4,      1]],\n",
              "\n",
              "       [[ 94746,     10,      6,      0],\n",
              "        [ 33941,     18,      9,      0],\n",
              "        [446597,     15,      5,      1],\n",
              "        ...,\n",
              "        [  9831,     15,      7,      0],\n",
              "        [335859,     12,     14,      0],\n",
              "        [256812,     10,      3,      1]],\n",
              "\n",
              "       [[127244,     60,     16,      0],\n",
              "        [ 23891,     25,      7,      0],\n",
              "        [157911,     60,     14,      0],\n",
              "        ...,\n",
              "        [321217,     65,      7,      0],\n",
              "        [104584,     48,      8,      0],\n",
              "        [235518,     23,      8,      0]]], dtype=int32)"
            ]
          },
          "metadata": {},
          "execution_count": 23
        }
      ],
      "source": [
        "short = new_file[new_file[:,1]<10]\n",
        "standart = new_file[(new_file[:,1] >= 10) & (new_file[:,1]<20)]\n",
        "long_ = new_file[20<=new_file[:,1]]\n",
        "\n",
        "max = np.min([short.shape[0], standart.shape[0], long_.shape[0]])\n",
        "np.array([short[:max], standart[:max], long_[:max]])"
      ]
    }
  ],
  "metadata": {
    "kernelspec": {
      "display_name": "Python 3",
      "language": "python",
      "name": "python3"
    },
    "language_info": {
      "codemirror_mode": {
        "name": "ipython",
        "version": 3
      },
      "file_extension": ".py",
      "mimetype": "text/x-python",
      "name": "python",
      "nbconvert_exporter": "python",
      "pygments_lexer": "ipython3",
      "version": "3.7.6"
    },
    "colab": {
      "provenance": []
    }
  },
  "nbformat": 4,
  "nbformat_minor": 0
}
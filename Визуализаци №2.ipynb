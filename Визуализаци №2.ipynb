{
  "nbformat": 4,
  "nbformat_minor": 0,
  "metadata": {
    "colab": {
      "provenance": []
    },
    "kernelspec": {
      "name": "python3",
      "display_name": "Python 3"
    },
    "language_info": {
      "name": "python"
    }
  },
  "cells": [
    {
      "cell_type": "code",
      "execution_count": null,
      "metadata": {
        "id": "W3guzVjLI6Y3"
      },
      "outputs": [],
      "source": [
        "import matplotlib\n",
        "import numpy as np\n",
        "import pandas as pd\n",
        "import matplotlib.pyplot as plt\n",
        "import seaborn as sns"
      ]
    },
    {
      "cell_type": "markdown",
      "source": [
        "#1. Загрузите данные в ноутбук"
      ],
      "metadata": {
        "id": "gNZBuHpbz-1z"
      }
    },
    {
      "cell_type": "code",
      "source": [
        "var = str(input('Введите номер варианта: '))\n",
        "data_set = pd.read_excel(f'data/Вариант {var}.xlsx', skiprows=2)\n",
        "data_set.head(7)"
      ],
      "metadata": {
        "colab": {
          "base_uri": "https://localhost:8080/",
          "height": 348
        },
        "id": "opbDBjk4LXgz",
        "outputId": "2cd4e8bd-9a6b-40b5-ac38-b125fff3a53c"
      },
      "execution_count": null,
      "outputs": [
        {
          "name": "stdout",
          "output_type": "stream",
          "text": [
            "Введите номер варианта: 2\n"
          ]
        },
        {
          "output_type": "execute_result",
          "data": {
            "text/plain": [
              "     №  № школы Класс Пол  Номер варианта Задания с кратким ответом  \\\n",
              "0  1.0    124.0    11   Ж           341.0              ------+-----   \n",
              "1  2.0    128.0    11   Ж           345.0              -+----------   \n",
              "2  3.0    132.0    11   Ж           340.0              -+----------   \n",
              "3  4.0    134.0    11   Ж           339.0              -+----------   \n",
              "4  5.0    136.0    11   Ж           348.0              --------+---   \n",
              "5  6.0    136.0    11   М           342.0              +-----------   \n",
              "6  7.0    136.0    11   М           341.0              +-----------   \n",
              "\n",
              "  Задания с развёрнутым ответом Устная часть  Первичный балл  Балл  \\\n",
              "0  0(2)0(2)0(2)0(3)0(3)0(4)0(4)          NaN             1.0   5.0   \n",
              "1  0(2)0(2)0(2)0(3)0(3)0(4)0(4)          NaN             1.0   5.0   \n",
              "2  0(2)0(2)0(2)0(3)0(3)0(4)0(4)          NaN             1.0   5.0   \n",
              "3  0(2)0(2)0(2)0(3)0(3)0(4)0(4)          NaN             1.0   5.0   \n",
              "4  0(2)0(2)0(2)0(3)0(3)0(4)0(4)          NaN             1.0   5.0   \n",
              "5  0(2)0(2)0(2)0(3)0(3)0(4)0(4)          NaN             1.0   5.0   \n",
              "6  0(2)0(2)0(2)0(3)0(3)0(4)0(4)          NaN             1.0   5.0   \n",
              "\n",
              "   Минимальный балл  \n",
              "0              27.0  \n",
              "1              27.0  \n",
              "2              27.0  \n",
              "3              27.0  \n",
              "4              27.0  \n",
              "5              27.0  \n",
              "6              27.0  "
            ],
            "text/html": [
              "\n",
              "  <div id=\"df-10a649df-5230-47d0-9d40-8232b413d510\">\n",
              "    <div class=\"colab-df-container\">\n",
              "      <div>\n",
              "<style scoped>\n",
              "    .dataframe tbody tr th:only-of-type {\n",
              "        vertical-align: middle;\n",
              "    }\n",
              "\n",
              "    .dataframe tbody tr th {\n",
              "        vertical-align: top;\n",
              "    }\n",
              "\n",
              "    .dataframe thead th {\n",
              "        text-align: right;\n",
              "    }\n",
              "</style>\n",
              "<table border=\"1\" class=\"dataframe\">\n",
              "  <thead>\n",
              "    <tr style=\"text-align: right;\">\n",
              "      <th></th>\n",
              "      <th>№</th>\n",
              "      <th>№ школы</th>\n",
              "      <th>Класс</th>\n",
              "      <th>Пол</th>\n",
              "      <th>Номер варианта</th>\n",
              "      <th>Задания с кратким ответом</th>\n",
              "      <th>Задания с развёрнутым ответом</th>\n",
              "      <th>Устная часть</th>\n",
              "      <th>Первичный балл</th>\n",
              "      <th>Балл</th>\n",
              "      <th>Минимальный балл</th>\n",
              "    </tr>\n",
              "  </thead>\n",
              "  <tbody>\n",
              "    <tr>\n",
              "      <th>0</th>\n",
              "      <td>1.0</td>\n",
              "      <td>124.0</td>\n",
              "      <td>11</td>\n",
              "      <td>Ж</td>\n",
              "      <td>341.0</td>\n",
              "      <td>------+-----</td>\n",
              "      <td>0(2)0(2)0(2)0(3)0(3)0(4)0(4)</td>\n",
              "      <td>NaN</td>\n",
              "      <td>1.0</td>\n",
              "      <td>5.0</td>\n",
              "      <td>27.0</td>\n",
              "    </tr>\n",
              "    <tr>\n",
              "      <th>1</th>\n",
              "      <td>2.0</td>\n",
              "      <td>128.0</td>\n",
              "      <td>11</td>\n",
              "      <td>Ж</td>\n",
              "      <td>345.0</td>\n",
              "      <td>-+----------</td>\n",
              "      <td>0(2)0(2)0(2)0(3)0(3)0(4)0(4)</td>\n",
              "      <td>NaN</td>\n",
              "      <td>1.0</td>\n",
              "      <td>5.0</td>\n",
              "      <td>27.0</td>\n",
              "    </tr>\n",
              "    <tr>\n",
              "      <th>2</th>\n",
              "      <td>3.0</td>\n",
              "      <td>132.0</td>\n",
              "      <td>11</td>\n",
              "      <td>Ж</td>\n",
              "      <td>340.0</td>\n",
              "      <td>-+----------</td>\n",
              "      <td>0(2)0(2)0(2)0(3)0(3)0(4)0(4)</td>\n",
              "      <td>NaN</td>\n",
              "      <td>1.0</td>\n",
              "      <td>5.0</td>\n",
              "      <td>27.0</td>\n",
              "    </tr>\n",
              "    <tr>\n",
              "      <th>3</th>\n",
              "      <td>4.0</td>\n",
              "      <td>134.0</td>\n",
              "      <td>11</td>\n",
              "      <td>Ж</td>\n",
              "      <td>339.0</td>\n",
              "      <td>-+----------</td>\n",
              "      <td>0(2)0(2)0(2)0(3)0(3)0(4)0(4)</td>\n",
              "      <td>NaN</td>\n",
              "      <td>1.0</td>\n",
              "      <td>5.0</td>\n",
              "      <td>27.0</td>\n",
              "    </tr>\n",
              "    <tr>\n",
              "      <th>4</th>\n",
              "      <td>5.0</td>\n",
              "      <td>136.0</td>\n",
              "      <td>11</td>\n",
              "      <td>Ж</td>\n",
              "      <td>348.0</td>\n",
              "      <td>--------+---</td>\n",
              "      <td>0(2)0(2)0(2)0(3)0(3)0(4)0(4)</td>\n",
              "      <td>NaN</td>\n",
              "      <td>1.0</td>\n",
              "      <td>5.0</td>\n",
              "      <td>27.0</td>\n",
              "    </tr>\n",
              "    <tr>\n",
              "      <th>5</th>\n",
              "      <td>6.0</td>\n",
              "      <td>136.0</td>\n",
              "      <td>11</td>\n",
              "      <td>М</td>\n",
              "      <td>342.0</td>\n",
              "      <td>+-----------</td>\n",
              "      <td>0(2)0(2)0(2)0(3)0(3)0(4)0(4)</td>\n",
              "      <td>NaN</td>\n",
              "      <td>1.0</td>\n",
              "      <td>5.0</td>\n",
              "      <td>27.0</td>\n",
              "    </tr>\n",
              "    <tr>\n",
              "      <th>6</th>\n",
              "      <td>7.0</td>\n",
              "      <td>136.0</td>\n",
              "      <td>11</td>\n",
              "      <td>М</td>\n",
              "      <td>341.0</td>\n",
              "      <td>+-----------</td>\n",
              "      <td>0(2)0(2)0(2)0(3)0(3)0(4)0(4)</td>\n",
              "      <td>NaN</td>\n",
              "      <td>1.0</td>\n",
              "      <td>5.0</td>\n",
              "      <td>27.0</td>\n",
              "    </tr>\n",
              "  </tbody>\n",
              "</table>\n",
              "</div>\n",
              "      <button class=\"colab-df-convert\" onclick=\"convertToInteractive('df-10a649df-5230-47d0-9d40-8232b413d510')\"\n",
              "              title=\"Convert this dataframe to an interactive table.\"\n",
              "              style=\"display:none;\">\n",
              "        \n",
              "  <svg xmlns=\"http://www.w3.org/2000/svg\" height=\"24px\"viewBox=\"0 0 24 24\"\n",
              "       width=\"24px\">\n",
              "    <path d=\"M0 0h24v24H0V0z\" fill=\"none\"/>\n",
              "    <path d=\"M18.56 5.44l.94 2.06.94-2.06 2.06-.94-2.06-.94-.94-2.06-.94 2.06-2.06.94zm-11 1L8.5 8.5l.94-2.06 2.06-.94-2.06-.94L8.5 2.5l-.94 2.06-2.06.94zm10 10l.94 2.06.94-2.06 2.06-.94-2.06-.94-.94-2.06-.94 2.06-2.06.94z\"/><path d=\"M17.41 7.96l-1.37-1.37c-.4-.4-.92-.59-1.43-.59-.52 0-1.04.2-1.43.59L10.3 9.45l-7.72 7.72c-.78.78-.78 2.05 0 2.83L4 21.41c.39.39.9.59 1.41.59.51 0 1.02-.2 1.41-.59l7.78-7.78 2.81-2.81c.8-.78.8-2.07 0-2.86zM5.41 20L4 18.59l7.72-7.72 1.47 1.35L5.41 20z\"/>\n",
              "  </svg>\n",
              "      </button>\n",
              "      \n",
              "  <style>\n",
              "    .colab-df-container {\n",
              "      display:flex;\n",
              "      flex-wrap:wrap;\n",
              "      gap: 12px;\n",
              "    }\n",
              "\n",
              "    .colab-df-convert {\n",
              "      background-color: #E8F0FE;\n",
              "      border: none;\n",
              "      border-radius: 50%;\n",
              "      cursor: pointer;\n",
              "      display: none;\n",
              "      fill: #1967D2;\n",
              "      height: 32px;\n",
              "      padding: 0 0 0 0;\n",
              "      width: 32px;\n",
              "    }\n",
              "\n",
              "    .colab-df-convert:hover {\n",
              "      background-color: #E2EBFA;\n",
              "      box-shadow: 0px 1px 2px rgba(60, 64, 67, 0.3), 0px 1px 3px 1px rgba(60, 64, 67, 0.15);\n",
              "      fill: #174EA6;\n",
              "    }\n",
              "\n",
              "    [theme=dark] .colab-df-convert {\n",
              "      background-color: #3B4455;\n",
              "      fill: #D2E3FC;\n",
              "    }\n",
              "\n",
              "    [theme=dark] .colab-df-convert:hover {\n",
              "      background-color: #434B5C;\n",
              "      box-shadow: 0px 1px 3px 1px rgba(0, 0, 0, 0.15);\n",
              "      filter: drop-shadow(0px 1px 2px rgba(0, 0, 0, 0.3));\n",
              "      fill: #FFFFFF;\n",
              "    }\n",
              "  </style>\n",
              "\n",
              "      <script>\n",
              "        const buttonEl =\n",
              "          document.querySelector('#df-10a649df-5230-47d0-9d40-8232b413d510 button.colab-df-convert');\n",
              "        buttonEl.style.display =\n",
              "          google.colab.kernel.accessAllowed ? 'block' : 'none';\n",
              "\n",
              "        async function convertToInteractive(key) {\n",
              "          const element = document.querySelector('#df-10a649df-5230-47d0-9d40-8232b413d510');\n",
              "          const dataTable =\n",
              "            await google.colab.kernel.invokeFunction('convertToInteractive',\n",
              "                                                     [key], {});\n",
              "          if (!dataTable) return;\n",
              "\n",
              "          const docLinkHtml = 'Like what you see? Visit the ' +\n",
              "            '<a target=\"_blank\" href=https://colab.research.google.com/notebooks/data_table.ipynb>data table notebook</a>'\n",
              "            + ' to learn more about interactive tables.';\n",
              "          element.innerHTML = '';\n",
              "          dataTable['output_type'] = 'display_data';\n",
              "          await google.colab.output.renderOutput(dataTable, element);\n",
              "          const docLink = document.createElement('div');\n",
              "          docLink.innerHTML = docLinkHtml;\n",
              "          element.appendChild(docLink);\n",
              "        }\n",
              "      </script>\n",
              "    </div>\n",
              "  </div>\n",
              "  "
            ]
          },
          "metadata": {},
          "execution_count": 17
        }
      ]
    },
    {
      "cell_type": "markdown",
      "source": [
        "#2. Сделайте описательную статистику по набранному баллу"
      ],
      "metadata": {
        "id": "330JbRcO0DEP"
      }
    },
    {
      "cell_type": "code",
      "source": [
        "data_set['Балл'].describe()"
      ],
      "metadata": {
        "colab": {
          "base_uri": "https://localhost:8080/"
        },
        "id": "90jF_gaoM-88",
        "outputId": "011a27e3-0d61-4fcf-9d67-6c622a6d679f"
      },
      "execution_count": null,
      "outputs": [
        {
          "output_type": "execute_result",
          "data": {
            "text/plain": [
              "count    2357.000000\n",
              "mean       49.255093\n",
              "std        17.876625\n",
              "min         5.000000\n",
              "25%        33.000000\n",
              "50%        50.000000\n",
              "75%        68.000000\n",
              "max        96.000000\n",
              "Name: Балл, dtype: float64"
            ]
          },
          "metadata": {},
          "execution_count": 18
        }
      ]
    },
    {
      "cell_type": "markdown",
      "source": [
        "#3. Найдите процент учащихся, выполнивших работу ниже среднего"
      ],
      "metadata": {
        "id": "7HKB5pRi0U3v"
      }
    },
    {
      "cell_type": "code",
      "source": [
        "meanMask = (data_set['Балл'] < round(data_set['Балл'].mean(), 2))\n",
        "print(round(len(data_set[meanMask])/ data_set.shape[0] * 100, 3))"
      ],
      "metadata": {
        "colab": {
          "base_uri": "https://localhost:8080/"
        },
        "id": "BGjYs_H6OJPw",
        "outputId": "154b9968-f7c6-4cb2-fd4a-a78019b49edd"
      },
      "execution_count": null,
      "outputs": [
        {
          "output_type": "stream",
          "name": "stdout",
          "text": [
            "48.027\n"
          ]
        }
      ]
    },
    {
      "cell_type": "markdown",
      "source": [
        "#4. Найти процент учащихся не сдавших экзамен"
      ],
      "metadata": {
        "id": "z1P7oSsy0cCt"
      }
    },
    {
      "cell_type": "code",
      "source": [
        "minMask = (data_set['Балл'] < data_set['Минимальный балл'][0])\n",
        "print(round(len(data_set[minMask])/data_set.shape[0] * 100, 3))"
      ],
      "metadata": {
        "colab": {
          "base_uri": "https://localhost:8080/"
        },
        "id": "f-a_y0rgTCeu",
        "outputId": "74ce12ad-f876-4ed4-b3a1-5dd765d688d1"
      },
      "execution_count": null,
      "outputs": [
        {
          "output_type": "stream",
          "name": "stdout",
          "text": [
            "9.207\n"
          ]
        }
      ]
    },
    {
      "cell_type": "markdown",
      "source": [
        "#5. Постройте круговую диаграмму, показывающую распределение сдавших и не сдавших экзамен"
      ],
      "metadata": {
        "id": "X1IMmvdT0pRy"
      }
    },
    {
      "cell_type": "code",
      "source": [
        "pieChart = plt.pie(list((data_set.shape[0] - len(data_set[minMask]), len(data_set[minMask]))), labels=list(('Сдавшие', 'Не сдавшие')), colors=['gray', 'yellow'], autopct='%1.2f%%')\n",
        "plt.show()"
      ],
      "metadata": {
        "colab": {
          "base_uri": "https://localhost:8080/",
          "height": 248
        },
        "id": "j7bpe7eUVlQa",
        "outputId": "e1ab5bd9-a328-4843-e08a-48cde56fe17b"
      },
      "execution_count": null,
      "outputs": [
        {
          "output_type": "display_data",
          "data": {
            "text/plain": [
              "<Figure size 432x288 with 1 Axes>"
            ],
            "image/png": "[encoded data removed]"
          },
          "metadata": {}
        }
      ]
    },
    {
      "cell_type": "markdown",
      "source": [
        "#6. Постройте ядерную оценку плотности распределению баллов за экзамен"
      ],
      "metadata": {
        "id": "90fmhxjM0ykO"
      }
    },
    {
      "cell_type": "code",
      "source": [
        "sns.kdeplot(data_set['Балл'])\n",
        "plt.title('Ядерная оценка плотности распределения баллов за экзамен')\n",
        "plt.show()"
      ],
      "metadata": {
        "colab": {
          "base_uri": "https://localhost:8080/",
          "height": 295
        },
        "id": "XDl4IU17pUCs",
        "outputId": "91ff200f-d5d2-40ee-ef7a-3bc771e997ef"
      },
      "execution_count": null,
      "outputs": [
        {
          "output_type": "display_data",
          "data": {
            "text/plain": [
              "<Figure size 432x288 with 1 Axes>"
            ],
            "image/png": "[encoded data removed]"
          },
          "metadata": {
            "needs_background": "light"
          }
        }
      ]
    },
    {
      "cell_type": "markdown",
      "source": [
        "#7.Найдите процентное соотношение учащихся, сдавших экзамен на «отлично», «хорошо», «удовлетворительно», «неудовлетворительно»."
      ],
      "metadata": {
        "id": "N2pWaRP903hv"
      }
    },
    {
      "cell_type": "code",
      "source": [
        "failed = 0\n",
        "passed = 0\n",
        "good = 0\n",
        "exelent = 0\n",
        "\n",
        "if var == 1:#Русский\n",
        "  failed_mask = (0 <= data_set['Балл'][0:]) & (data_set['Балл'][0:] <= 35)\n",
        "  passed_mask = (36 <= data_set['Балл'][0:]) & (data_set['Балл'][0:] <= 56)\n",
        "  good_mask = (57 <= data_set['Балл'][0:]) & (data_set['Балл'][0:] <= 71)\n",
        "  exelent_mask = (data_set['Балл'][0:] >= 72)\n",
        "\n",
        "elif var == 2:#Математика\n",
        "  failed_mask = (0 <= data_set['Балл'][0:]) & (data_set['Балл'][0:] <= 26)\n",
        "  passed_mask = (27 <= data_set['Балл'][0:]) & (data_set['Балл'][0:] <= 49)\n",
        "  good_mask = (50 <= data_set['Балл'][0:]) & (data_set['Балл'][0:] <= 67)\n",
        "  exelent_mask = (data_set['Балл'][0:] >= 68)\n",
        "\n",
        "elif var == 3:#Физика\n",
        "  failed_mask = (0 <= data_set['Балл'][0:]) & (data_set['Балл'][0:] <= 35)\n",
        "  passed_mask = (36 <= data_set['Балл'][0:]) & (data_set['Балл'][0:] <= 52)\n",
        "  good_mask = (53 <= data_set['Балл'][0:]) & (data_set['Балл'][0:] <= 67)\n",
        "  exelent_mask = (data_set['Балл'][0:] >= 68)\n",
        "\n",
        "elif var == 4:#Информатика\n",
        "  failed_mask = (0 <= data_set['Балл'][0:]) & (data_set['Балл'][0:] <= 39)\n",
        "  passed_mask = (40 <= data_set['Балл'][0:]) & (data_set['Балл'][0:] <= 56)\n",
        "  good_mask = (57 <= data_set['Балл'][0:]) & (data_set['Балл'][0:] <= 72)\n",
        "  exelent_mask = (data_set['Балл'][0:] >= 73)\n",
        "\n",
        "failed_persent = len(data_set[failed_mask])\n",
        "passed_persent = len(data_set[passed_mask])\n",
        "good_persent = len(data_set[good_mask])\n",
        "exelent_persent = len(data_set[exelent_mask])\n",
        "\n",
        "mas = [failed_persent, passed_persent, good_persent, exelent_persent]\n",
        "fig, ax = plt.subplots()\n",
        "ax.pie(mas, autopct='%2f%%')\n",
        "plt.show()\n",
        "\n",
        "print(round(failed_persent/data_set.shape[0] * 100, 3), round(passed_persent/data_set.shape[0] * 100, 3), round(good_persent/data_set.shape[0] * 100, 3), exelent_persent/data_set.shape[0] * 100)"
      ],
      "metadata": {
        "colab": {
          "base_uri": "https://localhost:8080/",
          "height": 335
        },
        "id": "JNcwTkWts0cK",
        "outputId": "35f9bb8d-89ce-46e0-9aea-c390311b7664"
      },
      "execution_count": null,
      "outputs": [
        {
          "output_type": "stream",
          "name": "stderr",
          "text": [
            "/usr/local/lib/python3.7/dist-packages/ipykernel_launcher.py:30: UserWarning: Boolean Series key will be reindexed to match DataFrame index.\n",
            "/usr/local/lib/python3.7/dist-packages/ipykernel_launcher.py:31: UserWarning: Boolean Series key will be reindexed to match DataFrame index.\n",
            "/usr/local/lib/python3.7/dist-packages/ipykernel_launcher.py:32: UserWarning: Boolean Series key will be reindexed to match DataFrame index.\n",
            "/usr/local/lib/python3.7/dist-packages/ipykernel_launcher.py:33: UserWarning: Boolean Series key will be reindexed to match DataFrame index.\n"
          ]
        },
        {
          "output_type": "display_data",
          "data": {
            "text/plain": [
              "<Figure size 432x288 with 1 Axes>"
            ],
            "image/png": "[encoded data removed]"
          },
          "metadata": {}
        },
        {
          "output_type": "stream",
          "name": "stdout",
          "text": [
            "0.891 14.934 44.548 39.62664403903267\n"
          ]
        }
      ]
    },
    {
      "cell_type": "markdown",
      "source": [
        "#8. Какое процентное соотношение юношей и девушек писало данный экзамен?"
      ],
      "metadata": {
        "id": "sFxB5qfZ08Kg"
      }
    },
    {
      "cell_type": "code",
      "source": [
        "maskFemale = (data_set['Пол'] == 'Ж')\n",
        "maskMale = (data_set['Пол'] == 'М')\n",
        "\n",
        "print(f'{len(data_set[maskMale]) / data_set.shape[0] * 100} % сдавало мальчиков')\n",
        "print(f'{len(data_set[maskFemale]) / data_set.shape[0] * 100} % сдавало девочек')\n"
      ],
      "metadata": {
        "id": "AR2RZcTAtgiU",
        "colab": {
          "base_uri": "https://localhost:8080/"
        },
        "outputId": "14b0d947-4647-47e7-fa64-1a74d9e2e3f5"
      },
      "execution_count": null,
      "outputs": [
        {
          "output_type": "stream",
          "name": "stdout",
          "text": [
            "47.136190072125586 % сдавало мальчиков\n",
            "52.82138311412813 % сдавало девочек\n"
          ]
        }
      ]
    },
    {
      "cell_type": "markdown",
      "source": [
        "#9. Сколько школ принимало участие в экзамене?"
      ],
      "metadata": {
        "id": "bZlx_F8x1CyA"
      }
    },
    {
      "cell_type": "code",
      "source": [
        "print(data_set['№ школы'].nunique())"
      ],
      "metadata": {
        "colab": {
          "base_uri": "https://localhost:8080/"
        },
        "id": "2L_ICgLWh1fB",
        "outputId": "db3df4d1-8fb6-42fb-a914-1429b44528c1"
      },
      "execution_count": null,
      "outputs": [
        {
          "output_type": "stream",
          "name": "stdout",
          "text": [
            "17\n"
          ]
        }
      ]
    },
    {
      "cell_type": "markdown",
      "source": [
        "#Доп_1. Сколько всего заданий с кратким ответом? С развернутым ответом?"
      ],
      "metadata": {
        "id": "Ad8szMuc1In4"
      }
    },
    {
      "cell_type": "code",
      "source": [
        "print(len(data_set['Задания с кратким ответом'][0]))"
      ],
      "metadata": {
        "colab": {
          "base_uri": "https://localhost:8080/"
        },
        "id": "jF2e4pWPiDiN",
        "outputId": "e4349ca1-1ab4-40bc-d79c-e442f46a238b"
      },
      "execution_count": null,
      "outputs": [
        {
          "output_type": "stream",
          "name": "stdout",
          "text": [
            "12\n"
          ]
        }
      ]
    },
    {
      "cell_type": "code",
      "source": [
        "res = data_set['Задания с развёрнутым ответом'][0]\n",
        "res = res.split(')')\n",
        "print(res)\n",
        "print(len(res)-1)"
      ],
      "metadata": {
        "colab": {
          "base_uri": "https://localhost:8080/"
        },
        "id": "0RCNhB7tj8rX",
        "outputId": "a9574489-0cee-4e2f-fcb3-35c6a290374d"
      },
      "execution_count": null,
      "outputs": [
        {
          "output_type": "stream",
          "name": "stdout",
          "text": [
            "['0(2', '0(2', '0(2', '0(3', '0(3', '0(4', '0(4', '']\n",
            "7\n"
          ]
        }
      ]
    },
    {
      "cell_type": "markdown",
      "source": [
        "#Доп_2. Пусть задания с кратким ответом будут задания типа В. Соответственно всего по экзамену вопросов класса В: В 1 … В к Посчитайте процент выполненных и невыполненных заданий по каждому вопросу класса В."
      ],
      "metadata": {
        "id": "9L8OZ_N81Rmo"
      }
    },
    {
      "cell_type": "code",
      "source": [
        "data_ = data_set['Задания с кратким ответом'].str.split('', expand=True)\n",
        "print(round(((data_=='-')|(data_=='0')).sum()[1:-1]/data_set.shape[0] * 100))"
      ],
      "metadata": {
        "colab": {
          "base_uri": "https://localhost:8080/"
        },
        "id": "hzO5Suz4l-OA",
        "outputId": "b74c1f6f-fe83-41a3-a744-72b4974af22d"
      },
      "execution_count": null,
      "outputs": [
        {
          "output_type": "stream",
          "name": "stdout",
          "text": [
            "1     11.0\n",
            "2      5.0\n",
            "3      7.0\n",
            "4      9.0\n",
            "5     11.0\n",
            "6     27.0\n",
            "7     62.0\n",
            "8     52.0\n",
            "9      8.0\n",
            "10    29.0\n",
            "11    41.0\n",
            "12    54.0\n",
            "dtype: float64\n"
          ]
        }
      ]
    }
  ]
}
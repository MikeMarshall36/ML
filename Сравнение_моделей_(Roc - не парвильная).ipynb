{
  "nbformat": 4,
  "nbformat_minor": 0,
  "metadata": {
    "colab": {
      "provenance": []
    },
    "kernelspec": {
      "name": "python3",
      "display_name": "Python 3"
    },
    "language_info": {
      "name": "python"
    }
  },
  "cells": [
    {
      "cell_type": "code",
      "execution_count": 123,
      "metadata": {
        "id": "gU-KVDPU1Q-9"
      },
      "outputs": [],
      "source": [
        "import pandas as pd\n",
        "import numpy  as np\n",
        "import random\n",
        "import matplotlib\n",
        "import matplotlib.pyplot as plt\n",
        "from sklearn.model_selection import train_test_split\n",
        "from sklearn.discriminant_analysis import LinearDiscriminantAnalysis\n",
        "from sklearn.linear_model import LogisticRegression\n",
        "from sklearn.neighbors import KNeighborsClassifier\n",
        "from sklearn import metrics\n",
        "from sklearn.metrics import roc_curve, auc, f1_score, roc_auc_score"
      ]
    },
    {
      "cell_type": "markdown",
      "source": [
        "1) Загрузите данные о вероятности развития сердечного приступа. "
      ],
      "metadata": {
        "id": "RqXH5WYk1VZm"
      }
    },
    {
      "cell_type": "code",
      "source": [
        "#col_names = ['Age', 'Sex', 'ChestPain Type', 'RestingBP', 'Cholesterol', 'FastingBS', 'RestingECG', 'MaxHR', 'ExerciseAngina', 'Oldpeak', 'ST_Slope', 'HeartDisease']\n",
        "heart = pd.read_csv('heart.csv')\n",
        "pain_types = heart.ChestPainType.unique()\n",
        "resting = heart.RestingECG.unique()\n",
        "slope = heart.ST_Slope.unique()\n",
        "sex = heart.Sex.unique()\n",
        "exercise = heart.ExerciseAngina.unique()\n",
        "heart"
      ],
      "metadata": {
        "colab": {
          "base_uri": "https://localhost:8080/",
          "height": 424
        },
        "id": "pYwwzR5o2fUl",
        "outputId": "a664cdbc-6145-49d8-ad42-87902733e049"
      },
      "execution_count": 124,
      "outputs": [
        {
          "output_type": "execute_result",
          "data": {
            "text/plain": [
              "     Age Sex ChestPainType  RestingBP  Cholesterol  FastingBS RestingECG  \\\n",
              "0     40   M           ATA        140          289          0     Normal   \n",
              "1     49   F           NAP        160          180          0     Normal   \n",
              "2     37   M           ATA        130          283          0         ST   \n",
              "3     48   F           ASY        138          214          0     Normal   \n",
              "4     54   M           NAP        150          195          0     Normal   \n",
              "..   ...  ..           ...        ...          ...        ...        ...   \n",
              "913   45   M            TA        110          264          0     Normal   \n",
              "914   68   M           ASY        144          193          1     Normal   \n",
              "915   57   M           ASY        130          131          0     Normal   \n",
              "916   57   F           ATA        130          236          0        LVH   \n",
              "917   38   M           NAP        138          175          0     Normal   \n",
              "\n",
              "     MaxHR ExerciseAngina  Oldpeak ST_Slope  HeartDisease  \n",
              "0      172              N      0.0       Up             0  \n",
              "1      156              N      1.0     Flat             1  \n",
              "2       98              N      0.0       Up             0  \n",
              "3      108              Y      1.5     Flat             1  \n",
              "4      122              N      0.0       Up             0  \n",
              "..     ...            ...      ...      ...           ...  \n",
              "913    132              N      1.2     Flat             1  \n",
              "914    141              N      3.4     Flat             1  \n",
              "915    115              Y      1.2     Flat             1  \n",
              "916    174              N      0.0     Flat             1  \n",
              "917    173              N      0.0       Up             0  \n",
              "\n",
              "[918 rows x 12 columns]"
            ],
            "text/html": [
              "\n",
              "  <div id=\"df-c1e74bc6-660d-4adf-930c-85cb135dcc6a\">\n",
              "    <div class=\"colab-df-container\">\n",
              "      <div>\n",
              "<style scoped>\n",
              "    .dataframe tbody tr th:only-of-type {\n",
              "        vertical-align: middle;\n",
              "    }\n",
              "\n",
              "    .dataframe tbody tr th {\n",
              "        vertical-align: top;\n",
              "    }\n",
              "\n",
              "    .dataframe thead th {\n",
              "        text-align: right;\n",
              "    }\n",
              "</style>\n",
              "<table border=\"1\" class=\"dataframe\">\n",
              "  <thead>\n",
              "    <tr style=\"text-align: right;\">\n",
              "      <th></th>\n",
              "      <th>Age</th>\n",
              "      <th>Sex</th>\n",
              "      <th>ChestPainType</th>\n",
              "      <th>RestingBP</th>\n",
              "      <th>Cholesterol</th>\n",
              "      <th>FastingBS</th>\n",
              "      <th>RestingECG</th>\n",
              "      <th>MaxHR</th>\n",
              "      <th>ExerciseAngina</th>\n",
              "      <th>Oldpeak</th>\n",
              "      <th>ST_Slope</th>\n",
              "      <th>HeartDisease</th>\n",
              "    </tr>\n",
              "  </thead>\n",
              "  <tbody>\n",
              "    <tr>\n",
              "      <th>0</th>\n",
              "      <td>40</td>\n",
              "      <td>M</td>\n",
              "      <td>ATA</td>\n",
              "      <td>140</td>\n",
              "      <td>289</td>\n",
              "      <td>0</td>\n",
              "      <td>Normal</td>\n",
              "      <td>172</td>\n",
              "      <td>N</td>\n",
              "      <td>0.0</td>\n",
              "      <td>Up</td>\n",
              "      <td>0</td>\n",
              "    </tr>\n",
              "    <tr>\n",
              "      <th>1</th>\n",
              "      <td>49</td>\n",
              "      <td>F</td>\n",
              "      <td>NAP</td>\n",
              "      <td>160</td>\n",
              "      <td>180</td>\n",
              "      <td>0</td>\n",
              "      <td>Normal</td>\n",
              "      <td>156</td>\n",
              "      <td>N</td>\n",
              "      <td>1.0</td>\n",
              "      <td>Flat</td>\n",
              "      <td>1</td>\n",
              "    </tr>\n",
              "    <tr>\n",
              "      <th>2</th>\n",
              "      <td>37</td>\n",
              "      <td>M</td>\n",
              "      <td>ATA</td>\n",
              "      <td>130</td>\n",
              "      <td>283</td>\n",
              "      <td>0</td>\n",
              "      <td>ST</td>\n",
              "      <td>98</td>\n",
              "      <td>N</td>\n",
              "      <td>0.0</td>\n",
              "      <td>Up</td>\n",
              "      <td>0</td>\n",
              "    </tr>\n",
              "    <tr>\n",
              "      <th>3</th>\n",
              "      <td>48</td>\n",
              "      <td>F</td>\n",
              "      <td>ASY</td>\n",
              "      <td>138</td>\n",
              "      <td>214</td>\n",
              "      <td>0</td>\n",
              "      <td>Normal</td>\n",
              "      <td>108</td>\n",
              "      <td>Y</td>\n",
              "      <td>1.5</td>\n",
              "      <td>Flat</td>\n",
              "      <td>1</td>\n",
              "    </tr>\n",
              "    <tr>\n",
              "      <th>4</th>\n",
              "      <td>54</td>\n",
              "      <td>M</td>\n",
              "      <td>NAP</td>\n",
              "      <td>150</td>\n",
              "      <td>195</td>\n",
              "      <td>0</td>\n",
              "      <td>Normal</td>\n",
              "      <td>122</td>\n",
              "      <td>N</td>\n",
              "      <td>0.0</td>\n",
              "      <td>Up</td>\n",
              "      <td>0</td>\n",
              "    </tr>\n",
              "    <tr>\n",
              "      <th>...</th>\n",
              "      <td>...</td>\n",
              "      <td>...</td>\n",
              "      <td>...</td>\n",
              "      <td>...</td>\n",
              "      <td>...</td>\n",
              "      <td>...</td>\n",
              "      <td>...</td>\n",
              "      <td>...</td>\n",
              "      <td>...</td>\n",
              "      <td>...</td>\n",
              "      <td>...</td>\n",
              "      <td>...</td>\n",
              "    </tr>\n",
              "    <tr>\n",
              "      <th>913</th>\n",
              "      <td>45</td>\n",
              "      <td>M</td>\n",
              "      <td>TA</td>\n",
              "      <td>110</td>\n",
              "      <td>264</td>\n",
              "      <td>0</td>\n",
              "      <td>Normal</td>\n",
              "      <td>132</td>\n",
              "      <td>N</td>\n",
              "      <td>1.2</td>\n",
              "      <td>Flat</td>\n",
              "      <td>1</td>\n",
              "    </tr>\n",
              "    <tr>\n",
              "      <th>914</th>\n",
              "      <td>68</td>\n",
              "      <td>M</td>\n",
              "      <td>ASY</td>\n",
              "      <td>144</td>\n",
              "      <td>193</td>\n",
              "      <td>1</td>\n",
              "      <td>Normal</td>\n",
              "      <td>141</td>\n",
              "      <td>N</td>\n",
              "      <td>3.4</td>\n",
              "      <td>Flat</td>\n",
              "      <td>1</td>\n",
              "    </tr>\n",
              "    <tr>\n",
              "      <th>915</th>\n",
              "      <td>57</td>\n",
              "      <td>M</td>\n",
              "      <td>ASY</td>\n",
              "      <td>130</td>\n",
              "      <td>131</td>\n",
              "      <td>0</td>\n",
              "      <td>Normal</td>\n",
              "      <td>115</td>\n",
              "      <td>Y</td>\n",
              "      <td>1.2</td>\n",
              "      <td>Flat</td>\n",
              "      <td>1</td>\n",
              "    </tr>\n",
              "    <tr>\n",
              "      <th>916</th>\n",
              "      <td>57</td>\n",
              "      <td>F</td>\n",
              "      <td>ATA</td>\n",
              "      <td>130</td>\n",
              "      <td>236</td>\n",
              "      <td>0</td>\n",
              "      <td>LVH</td>\n",
              "      <td>174</td>\n",
              "      <td>N</td>\n",
              "      <td>0.0</td>\n",
              "      <td>Flat</td>\n",
              "      <td>1</td>\n",
              "    </tr>\n",
              "    <tr>\n",
              "      <th>917</th>\n",
              "      <td>38</td>\n",
              "      <td>M</td>\n",
              "      <td>NAP</td>\n",
              "      <td>138</td>\n",
              "      <td>175</td>\n",
              "      <td>0</td>\n",
              "      <td>Normal</td>\n",
              "      <td>173</td>\n",
              "      <td>N</td>\n",
              "      <td>0.0</td>\n",
              "      <td>Up</td>\n",
              "      <td>0</td>\n",
              "    </tr>\n",
              "  </tbody>\n",
              "</table>\n",
              "<p>918 rows × 12 columns</p>\n",
              "</div>\n",
              "      <button class=\"colab-df-convert\" onclick=\"convertToInteractive('df-c1e74bc6-660d-4adf-930c-85cb135dcc6a')\"\n",
              "              title=\"Convert this dataframe to an interactive table.\"\n",
              "              style=\"display:none;\">\n",
              "        \n",
              "  <svg xmlns=\"http://www.w3.org/2000/svg\" height=\"24px\"viewBox=\"0 0 24 24\"\n",
              "       width=\"24px\">\n",
              "    <path d=\"M0 0h24v24H0V0z\" fill=\"none\"/>\n",
              "    <path d=\"M18.56 5.44l.94 2.06.94-2.06 2.06-.94-2.06-.94-.94-2.06-.94 2.06-2.06.94zm-11 1L8.5 8.5l.94-2.06 2.06-.94-2.06-.94L8.5 2.5l-.94 2.06-2.06.94zm10 10l.94 2.06.94-2.06 2.06-.94-2.06-.94-.94-2.06-.94 2.06-2.06.94z\"/><path d=\"M17.41 7.96l-1.37-1.37c-.4-.4-.92-.59-1.43-.59-.52 0-1.04.2-1.43.59L10.3 9.45l-7.72 7.72c-.78.78-.78 2.05 0 2.83L4 21.41c.39.39.9.59 1.41.59.51 0 1.02-.2 1.41-.59l7.78-7.78 2.81-2.81c.8-.78.8-2.07 0-2.86zM5.41 20L4 18.59l7.72-7.72 1.47 1.35L5.41 20z\"/>\n",
              "  </svg>\n",
              "      </button>\n",
              "      \n",
              "  <style>\n",
              "    .colab-df-container {\n",
              "      display:flex;\n",
              "      flex-wrap:wrap;\n",
              "      gap: 12px;\n",
              "    }\n",
              "\n",
              "    .colab-df-convert {\n",
              "      background-color: #E8F0FE;\n",
              "      border: none;\n",
              "      border-radius: 50%;\n",
              "      cursor: pointer;\n",
              "      display: none;\n",
              "      fill: #1967D2;\n",
              "      height: 32px;\n",
              "      padding: 0 0 0 0;\n",
              "      width: 32px;\n",
              "    }\n",
              "\n",
              "    .colab-df-convert:hover {\n",
              "      background-color: #E2EBFA;\n",
              "      box-shadow: 0px 1px 2px rgba(60, 64, 67, 0.3), 0px 1px 3px 1px rgba(60, 64, 67, 0.15);\n",
              "      fill: #174EA6;\n",
              "    }\n",
              "\n",
              "    [theme=dark] .colab-df-convert {\n",
              "      background-color: #3B4455;\n",
              "      fill: #D2E3FC;\n",
              "    }\n",
              "\n",
              "    [theme=dark] .colab-df-convert:hover {\n",
              "      background-color: #434B5C;\n",
              "      box-shadow: 0px 1px 3px 1px rgba(0, 0, 0, 0.15);\n",
              "      filter: drop-shadow(0px 1px 2px rgba(0, 0, 0, 0.3));\n",
              "      fill: #FFFFFF;\n",
              "    }\n",
              "  </style>\n",
              "\n",
              "      <script>\n",
              "        const buttonEl =\n",
              "          document.querySelector('#df-c1e74bc6-660d-4adf-930c-85cb135dcc6a button.colab-df-convert');\n",
              "        buttonEl.style.display =\n",
              "          google.colab.kernel.accessAllowed ? 'block' : 'none';\n",
              "\n",
              "        async function convertToInteractive(key) {\n",
              "          const element = document.querySelector('#df-c1e74bc6-660d-4adf-930c-85cb135dcc6a');\n",
              "          const dataTable =\n",
              "            await google.colab.kernel.invokeFunction('convertToInteractive',\n",
              "                                                     [key], {});\n",
              "          if (!dataTable) return;\n",
              "\n",
              "          const docLinkHtml = 'Like what you see? Visit the ' +\n",
              "            '<a target=\"_blank\" href=https://colab.research.google.com/notebooks/data_table.ipynb>data table notebook</a>'\n",
              "            + ' to learn more about interactive tables.';\n",
              "          element.innerHTML = '';\n",
              "          dataTable['output_type'] = 'display_data';\n",
              "          await google.colab.output.renderOutput(dataTable, element);\n",
              "          const docLink = document.createElement('div');\n",
              "          docLink.innerHTML = docLinkHtml;\n",
              "          element.appendChild(docLink);\n",
              "        }\n",
              "      </script>\n",
              "    </div>\n",
              "  </div>\n",
              "  "
            ]
          },
          "metadata": {},
          "execution_count": 124
        }
      ]
    },
    {
      "cell_type": "code",
      "source": [
        "\"А теперь переводим все в числа!\"\n",
        "\n",
        "for i in range(len(pain_types)):\n",
        "  heart.ChestPainType = heart.ChestPainType.replace(pain_types[i], i)\n",
        "\n",
        "for i in  range(len(resting)):\n",
        "  heart.RestingECG = heart.RestingECG.replace(resting[i], i)\n",
        "\n",
        "for i in range(len(slope)):\n",
        "  heart.ST_Slope = heart.ST_Slope.replace(slope[i], i)\n",
        "\n",
        "for i in range(len(sex)):\n",
        "  heart.Sex = heart.Sex.replace(sex[i], i)\n",
        "\n",
        "for i in range(len(exercise)):\n",
        "  heart.ExerciseAngina = heart.ExerciseAngina.replace(exercise[i], i)\n",
        "\n",
        "heart"
      ],
      "metadata": {
        "colab": {
          "base_uri": "https://localhost:8080/",
          "height": 424
        },
        "id": "tWKacU1zdrfY",
        "outputId": "ab0cb725-48d1-4f40-ee01-03da47410a50"
      },
      "execution_count": 125,
      "outputs": [
        {
          "output_type": "execute_result",
          "data": {
            "text/plain": [
              "     Age  Sex  ChestPainType  RestingBP  Cholesterol  FastingBS  RestingECG  \\\n",
              "0     40    0              0        140          289          0           0   \n",
              "1     49    1              1        160          180          0           0   \n",
              "2     37    0              0        130          283          0           1   \n",
              "3     48    1              2        138          214          0           0   \n",
              "4     54    0              1        150          195          0           0   \n",
              "..   ...  ...            ...        ...          ...        ...         ...   \n",
              "913   45    0              3        110          264          0           0   \n",
              "914   68    0              2        144          193          1           0   \n",
              "915   57    0              2        130          131          0           0   \n",
              "916   57    1              0        130          236          0           2   \n",
              "917   38    0              1        138          175          0           0   \n",
              "\n",
              "     MaxHR  ExerciseAngina  Oldpeak  ST_Slope  HeartDisease  \n",
              "0      172               0      0.0         0             0  \n",
              "1      156               0      1.0         1             1  \n",
              "2       98               0      0.0         0             0  \n",
              "3      108               1      1.5         1             1  \n",
              "4      122               0      0.0         0             0  \n",
              "..     ...             ...      ...       ...           ...  \n",
              "913    132               0      1.2         1             1  \n",
              "914    141               0      3.4         1             1  \n",
              "915    115               1      1.2         1             1  \n",
              "916    174               0      0.0         1             1  \n",
              "917    173               0      0.0         0             0  \n",
              "\n",
              "[918 rows x 12 columns]"
            ],
            "text/html": [
              "\n",
              "  <div id=\"df-d71c6773-9301-4507-8812-4317077a2542\">\n",
              "    <div class=\"colab-df-container\">\n",
              "      <div>\n",
              "<style scoped>\n",
              "    .dataframe tbody tr th:only-of-type {\n",
              "        vertical-align: middle;\n",
              "    }\n",
              "\n",
              "    .dataframe tbody tr th {\n",
              "        vertical-align: top;\n",
              "    }\n",
              "\n",
              "    .dataframe thead th {\n",
              "        text-align: right;\n",
              "    }\n",
              "</style>\n",
              "<table border=\"1\" class=\"dataframe\">\n",
              "  <thead>\n",
              "    <tr style=\"text-align: right;\">\n",
              "      <th></th>\n",
              "      <th>Age</th>\n",
              "      <th>Sex</th>\n",
              "      <th>ChestPainType</th>\n",
              "      <th>RestingBP</th>\n",
              "      <th>Cholesterol</th>\n",
              "      <th>FastingBS</th>\n",
              "      <th>RestingECG</th>\n",
              "      <th>MaxHR</th>\n",
              "      <th>ExerciseAngina</th>\n",
              "      <th>Oldpeak</th>\n",
              "      <th>ST_Slope</th>\n",
              "      <th>HeartDisease</th>\n",
              "    </tr>\n",
              "  </thead>\n",
              "  <tbody>\n",
              "    <tr>\n",
              "      <th>0</th>\n",
              "      <td>40</td>\n",
              "      <td>0</td>\n",
              "      <td>0</td>\n",
              "      <td>140</td>\n",
              "      <td>289</td>\n",
              "      <td>0</td>\n",
              "      <td>0</td>\n",
              "      <td>172</td>\n",
              "      <td>0</td>\n",
              "      <td>0.0</td>\n",
              "      <td>0</td>\n",
              "      <td>0</td>\n",
              "    </tr>\n",
              "    <tr>\n",
              "      <th>1</th>\n",
              "      <td>49</td>\n",
              "      <td>1</td>\n",
              "      <td>1</td>\n",
              "      <td>160</td>\n",
              "      <td>180</td>\n",
              "      <td>0</td>\n",
              "      <td>0</td>\n",
              "      <td>156</td>\n",
              "      <td>0</td>\n",
              "      <td>1.0</td>\n",
              "      <td>1</td>\n",
              "      <td>1</td>\n",
              "    </tr>\n",
              "    <tr>\n",
              "      <th>2</th>\n",
              "      <td>37</td>\n",
              "      <td>0</td>\n",
              "      <td>0</td>\n",
              "      <td>130</td>\n",
              "      <td>283</td>\n",
              "      <td>0</td>\n",
              "      <td>1</td>\n",
              "      <td>98</td>\n",
              "      <td>0</td>\n",
              "      <td>0.0</td>\n",
              "      <td>0</td>\n",
              "      <td>0</td>\n",
              "    </tr>\n",
              "    <tr>\n",
              "      <th>3</th>\n",
              "      <td>48</td>\n",
              "      <td>1</td>\n",
              "      <td>2</td>\n",
              "      <td>138</td>\n",
              "      <td>214</td>\n",
              "      <td>0</td>\n",
              "      <td>0</td>\n",
              "      <td>108</td>\n",
              "      <td>1</td>\n",
              "      <td>1.5</td>\n",
              "      <td>1</td>\n",
              "      <td>1</td>\n",
              "    </tr>\n",
              "    <tr>\n",
              "      <th>4</th>\n",
              "      <td>54</td>\n",
              "      <td>0</td>\n",
              "      <td>1</td>\n",
              "      <td>150</td>\n",
              "      <td>195</td>\n",
              "      <td>0</td>\n",
              "      <td>0</td>\n",
              "      <td>122</td>\n",
              "      <td>0</td>\n",
              "      <td>0.0</td>\n",
              "      <td>0</td>\n",
              "      <td>0</td>\n",
              "    </tr>\n",
              "    <tr>\n",
              "      <th>...</th>\n",
              "      <td>...</td>\n",
              "      <td>...</td>\n",
              "      <td>...</td>\n",
              "      <td>...</td>\n",
              "      <td>...</td>\n",
              "      <td>...</td>\n",
              "      <td>...</td>\n",
              "      <td>...</td>\n",
              "      <td>...</td>\n",
              "      <td>...</td>\n",
              "      <td>...</td>\n",
              "      <td>...</td>\n",
              "    </tr>\n",
              "    <tr>\n",
              "      <th>913</th>\n",
              "      <td>45</td>\n",
              "      <td>0</td>\n",
              "      <td>3</td>\n",
              "      <td>110</td>\n",
              "      <td>264</td>\n",
              "      <td>0</td>\n",
              "      <td>0</td>\n",
              "      <td>132</td>\n",
              "      <td>0</td>\n",
              "      <td>1.2</td>\n",
              "      <td>1</td>\n",
              "      <td>1</td>\n",
              "    </tr>\n",
              "    <tr>\n",
              "      <th>914</th>\n",
              "      <td>68</td>\n",
              "      <td>0</td>\n",
              "      <td>2</td>\n",
              "      <td>144</td>\n",
              "      <td>193</td>\n",
              "      <td>1</td>\n",
              "      <td>0</td>\n",
              "      <td>141</td>\n",
              "      <td>0</td>\n",
              "      <td>3.4</td>\n",
              "      <td>1</td>\n",
              "      <td>1</td>\n",
              "    </tr>\n",
              "    <tr>\n",
              "      <th>915</th>\n",
              "      <td>57</td>\n",
              "      <td>0</td>\n",
              "      <td>2</td>\n",
              "      <td>130</td>\n",
              "      <td>131</td>\n",
              "      <td>0</td>\n",
              "      <td>0</td>\n",
              "      <td>115</td>\n",
              "      <td>1</td>\n",
              "      <td>1.2</td>\n",
              "      <td>1</td>\n",
              "      <td>1</td>\n",
              "    </tr>\n",
              "    <tr>\n",
              "      <th>916</th>\n",
              "      <td>57</td>\n",
              "      <td>1</td>\n",
              "      <td>0</td>\n",
              "      <td>130</td>\n",
              "      <td>236</td>\n",
              "      <td>0</td>\n",
              "      <td>2</td>\n",
              "      <td>174</td>\n",
              "      <td>0</td>\n",
              "      <td>0.0</td>\n",
              "      <td>1</td>\n",
              "      <td>1</td>\n",
              "    </tr>\n",
              "    <tr>\n",
              "      <th>917</th>\n",
              "      <td>38</td>\n",
              "      <td>0</td>\n",
              "      <td>1</td>\n",
              "      <td>138</td>\n",
              "      <td>175</td>\n",
              "      <td>0</td>\n",
              "      <td>0</td>\n",
              "      <td>173</td>\n",
              "      <td>0</td>\n",
              "      <td>0.0</td>\n",
              "      <td>0</td>\n",
              "      <td>0</td>\n",
              "    </tr>\n",
              "  </tbody>\n",
              "</table>\n",
              "<p>918 rows × 12 columns</p>\n",
              "</div>\n",
              "      <button class=\"colab-df-convert\" onclick=\"convertToInteractive('df-d71c6773-9301-4507-8812-4317077a2542')\"\n",
              "              title=\"Convert this dataframe to an interactive table.\"\n",
              "              style=\"display:none;\">\n",
              "        \n",
              "  <svg xmlns=\"http://www.w3.org/2000/svg\" height=\"24px\"viewBox=\"0 0 24 24\"\n",
              "       width=\"24px\">\n",
              "    <path d=\"M0 0h24v24H0V0z\" fill=\"none\"/>\n",
              "    <path d=\"M18.56 5.44l.94 2.06.94-2.06 2.06-.94-2.06-.94-.94-2.06-.94 2.06-2.06.94zm-11 1L8.5 8.5l.94-2.06 2.06-.94-2.06-.94L8.5 2.5l-.94 2.06-2.06.94zm10 10l.94 2.06.94-2.06 2.06-.94-2.06-.94-.94-2.06-.94 2.06-2.06.94z\"/><path d=\"M17.41 7.96l-1.37-1.37c-.4-.4-.92-.59-1.43-.59-.52 0-1.04.2-1.43.59L10.3 9.45l-7.72 7.72c-.78.78-.78 2.05 0 2.83L4 21.41c.39.39.9.59 1.41.59.51 0 1.02-.2 1.41-.59l7.78-7.78 2.81-2.81c.8-.78.8-2.07 0-2.86zM5.41 20L4 18.59l7.72-7.72 1.47 1.35L5.41 20z\"/>\n",
              "  </svg>\n",
              "      </button>\n",
              "      \n",
              "  <style>\n",
              "    .colab-df-container {\n",
              "      display:flex;\n",
              "      flex-wrap:wrap;\n",
              "      gap: 12px;\n",
              "    }\n",
              "\n",
              "    .colab-df-convert {\n",
              "      background-color: #E8F0FE;\n",
              "      border: none;\n",
              "      border-radius: 50%;\n",
              "      cursor: pointer;\n",
              "      display: none;\n",
              "      fill: #1967D2;\n",
              "      height: 32px;\n",
              "      padding: 0 0 0 0;\n",
              "      width: 32px;\n",
              "    }\n",
              "\n",
              "    .colab-df-convert:hover {\n",
              "      background-color: #E2EBFA;\n",
              "      box-shadow: 0px 1px 2px rgba(60, 64, 67, 0.3), 0px 1px 3px 1px rgba(60, 64, 67, 0.15);\n",
              "      fill: #174EA6;\n",
              "    }\n",
              "\n",
              "    [theme=dark] .colab-df-convert {\n",
              "      background-color: #3B4455;\n",
              "      fill: #D2E3FC;\n",
              "    }\n",
              "\n",
              "    [theme=dark] .colab-df-convert:hover {\n",
              "      background-color: #434B5C;\n",
              "      box-shadow: 0px 1px 3px 1px rgba(0, 0, 0, 0.15);\n",
              "      filter: drop-shadow(0px 1px 2px rgba(0, 0, 0, 0.3));\n",
              "      fill: #FFFFFF;\n",
              "    }\n",
              "  </style>\n",
              "\n",
              "      <script>\n",
              "        const buttonEl =\n",
              "          document.querySelector('#df-d71c6773-9301-4507-8812-4317077a2542 button.colab-df-convert');\n",
              "        buttonEl.style.display =\n",
              "          google.colab.kernel.accessAllowed ? 'block' : 'none';\n",
              "\n",
              "        async function convertToInteractive(key) {\n",
              "          const element = document.querySelector('#df-d71c6773-9301-4507-8812-4317077a2542');\n",
              "          const dataTable =\n",
              "            await google.colab.kernel.invokeFunction('convertToInteractive',\n",
              "                                                     [key], {});\n",
              "          if (!dataTable) return;\n",
              "\n",
              "          const docLinkHtml = 'Like what you see? Visit the ' +\n",
              "            '<a target=\"_blank\" href=https://colab.research.google.com/notebooks/data_table.ipynb>data table notebook</a>'\n",
              "            + ' to learn more about interactive tables.';\n",
              "          element.innerHTML = '';\n",
              "          dataTable['output_type'] = 'display_data';\n",
              "          await google.colab.output.renderOutput(dataTable, element);\n",
              "          const docLink = document.createElement('div');\n",
              "          docLink.innerHTML = docLinkHtml;\n",
              "          element.appendChild(docLink);\n",
              "        }\n",
              "      </script>\n",
              "    </div>\n",
              "  </div>\n",
              "  "
            ]
          },
          "metadata": {},
          "execution_count": 125
        }
      ]
    },
    {
      "cell_type": "code",
      "source": [
        "y = heart.HeartDisease\n",
        "x = heart.drop(['HeartDisease'], axis=1)\n",
        "print(y.head(3))\n",
        "print(x.head(3))"
      ],
      "metadata": {
        "colab": {
          "base_uri": "https://localhost:8080/"
        },
        "id": "L9rguYJK5Cb8",
        "outputId": "46b771aa-88b1-475c-81d1-d454c9d1ce4f"
      },
      "execution_count": 126,
      "outputs": [
        {
          "output_type": "stream",
          "name": "stdout",
          "text": [
            "0    0\n",
            "1    1\n",
            "2    0\n",
            "Name: HeartDisease, dtype: int64\n",
            "   Age  Sex  ChestPainType  RestingBP  Cholesterol  FastingBS  RestingECG  \\\n",
            "0   40    0              0        140          289          0           0   \n",
            "1   49    1              1        160          180          0           0   \n",
            "2   37    0              0        130          283          0           1   \n",
            "\n",
            "   MaxHR  ExerciseAngina  Oldpeak  ST_Slope  \n",
            "0    172               0      0.0         0  \n",
            "1    156               0      1.0         1  \n",
            "2     98               0      0.0         0  \n"
          ]
        }
      ]
    },
    {
      "cell_type": "markdown",
      "source": [
        "2) Разделите данные на обучающую и тестовую выборки в соотношении 80% / 20% без перемешивания."
      ],
      "metadata": {
        "id": "yCk-vBG166zT"
      }
    },
    {
      "cell_type": "code",
      "source": [
        "X_train, X_test, y_train, y_test = train_test_split(x, y, test_size=0.2, shuffle=False)\n",
        "\n",
        "y_train"
      ],
      "metadata": {
        "id": "PpNGVufo6uW-",
        "colab": {
          "base_uri": "https://localhost:8080/"
        },
        "outputId": "ed970ca5-e11e-47ef-af5a-37c32136b2d5"
      },
      "execution_count": 127,
      "outputs": [
        {
          "output_type": "execute_result",
          "data": {
            "text/plain": [
              "0      0\n",
              "1      1\n",
              "2      0\n",
              "3      1\n",
              "4      0\n",
              "      ..\n",
              "729    0\n",
              "730    0\n",
              "731    1\n",
              "732    1\n",
              "733    0\n",
              "Name: HeartDisease, Length: 734, dtype: int64"
            ]
          },
          "metadata": {},
          "execution_count": 127
        }
      ]
    },
    {
      "cell_type": "markdown",
      "source": [
        "#3 Постройте следующие модели классификации:"
      ],
      "metadata": {
        "id": "R-3tXTcefLsc"
      }
    },
    {
      "cell_type": "code",
      "source": [
        "#1 случайное предсказание (подбрасывание кубика)\n",
        "y_pred_cub = []\n",
        "\n",
        "y_train_pred_cub = []\n",
        "\n",
        "for i in range(len(y_test)):\n",
        "  y_pred_cub.append(round(random.random()))\n",
        "\n",
        "for i in range(len(y_train)):\n",
        "  y_train_pred_cub.append(round(random.random()))\n",
        "\n",
        "eqs = 0\n",
        "for j in range(len(y_test)):\n",
        "  if list(y_test)[j] == y_pred_cub[j]:\n",
        "    eqs += 1\n",
        "\n",
        "print(f'Всего данных: {len(y_test)}')\n",
        "print(f'Верных предсказаний: {eqs}')\n",
        "print(f'Не верных предсказаний: {len(y_test) - eqs}')\n"
      ],
      "metadata": {
        "id": "kgcCluBwfReb",
        "colab": {
          "base_uri": "https://localhost:8080/"
        },
        "outputId": "8875973c-a6cd-4521-ee72-a424f91522d6"
      },
      "execution_count": 128,
      "outputs": [
        {
          "output_type": "stream",
          "name": "stdout",
          "text": [
            "Всего данных: 184\n",
            "Верных предсказаний: 103\n",
            "Не верных предсказаний: 81\n"
          ]
        }
      ]
    },
    {
      "cell_type": "code",
      "source": [
        "#2 Логистическая регрессия (LogisticRegression)\n",
        "model = LogisticRegression(solver='liblinear')\n",
        "model.fit(X_train, y_train)\n",
        "y_train_pred_lr = model.predict(X_train)\n",
        "y_pred_lr = model.predict(X_test)\n",
        "y_pred_lr\n",
        "print(f'Количество неверных предсказаний: {(y_test!=y_pred_lr).sum()}')\n",
        "print(f'Количество верных предсказаний: {(y_test == y_pred_lr).sum()}')\n"
      ],
      "metadata": {
        "colab": {
          "base_uri": "https://localhost:8080/"
        },
        "id": "8d_0vkK_fWwf",
        "outputId": "90070cef-11db-411d-c2db-8876fd598873"
      },
      "execution_count": 129,
      "outputs": [
        {
          "output_type": "stream",
          "name": "stdout",
          "text": [
            "Количество неверных предсказаний: 43\n",
            "Количество верных предсказаний: 141\n"
          ]
        }
      ]
    },
    {
      "cell_type": "code",
      "source": [
        "#3(4) Метод линейного дискриминантного анализа (LinearDiscriminantAnalysis)\n",
        "\n",
        "\"\"\"\n",
        "Ну тут модель смотрит на дискриминанты данных и по ним предсказывает значения следующих точек.\n",
        "На самом деле в чистом виде её редко используют *так много где написано и приводится граффик на котором видно,\n",
        "что данный метод с модификаторами достаточно стабилен и точен. Но насколько стоит им верить - решать каждому самому.\n",
        "\"\"\"\n",
        "\n",
        "model = LinearDiscriminantAnalysis()\n",
        "model.fit(X_train, y_train)\n",
        "y_pred_ld = model.predict(X_test)\n",
        "y_train_pred_ld = model.predict(X_train)\n",
        "y_pred_ld\n",
        "print(f'Количество неверных предсказаний: {(y_test!=y_pred_ld).sum()}')\n",
        "print(f'Количество верных предсказаний: {(y_test == y_pred_ld).sum()}')\n"
      ],
      "metadata": {
        "id": "z_S5aziXgZe3",
        "colab": {
          "base_uri": "https://localhost:8080/"
        },
        "outputId": "ee43d462-8f49-4b87-8492-95d2b97e94c0"
      },
      "execution_count": 130,
      "outputs": [
        {
          "output_type": "stream",
          "name": "stdout",
          "text": [
            "Количество неверных предсказаний: 40\n",
            "Количество верных предсказаний: 144\n"
          ]
        }
      ]
    },
    {
      "cell_type": "code",
      "source": [
        "#4(5) Метод ближайших соседей (KNeighboursClassifier)\n",
        "\"\"\"\n",
        "Данный метод смотрит на ближайшие соседние значения и основываясь на них предсказывает занчение следующей точки.\n",
        "В данном случае смотрит на ближайшие 5 (По дефолту стоят 5 соседей) соседей.\n",
        "\"\"\"\n",
        "model = KNeighborsClassifier(n_neighbors=7)# поменял на 7 соседей. Стало лучше, но придется облосновать причину 7 соседей, а не дефолтных 5)\n",
        "model.fit(X_train, y_train)\n",
        "y_pred_KNC = model.predict(X_test)\n",
        "y_train_pred_KNC = model.predict(X_train)\n",
        "y_pred_KNC\n",
        "print(f'Количество неверных предсказаний: {(y_test!=y_pred_KNC).sum()}')\n",
        "print(f'Количество верных предсказаний: {(y_test == y_pred_KNC).sum()}')\n"
      ],
      "metadata": {
        "colab": {
          "base_uri": "https://localhost:8080/"
        },
        "id": "SeUgJ-TnrQ7B",
        "outputId": "15f9e857-c61d-4c2f-c19a-30c062a84e28"
      },
      "execution_count": 131,
      "outputs": [
        {
          "output_type": "stream",
          "name": "stdout",
          "text": [
            "Количество неверных предсказаний: 65\n",
            "Количество верных предсказаний: 119\n"
          ]
        }
      ]
    },
    {
      "cell_type": "markdown",
      "source": [
        "4) На основе метрики  accuracy  сделайте вывод о недообученности-переобученности модели логистической регрессии. Для этого сделайте предсказание на тренировочном датасете и посчитайте accuracy на нём, затем на тестовом датасете и тоже посчитайте accuracy. Сравните эти значения, они должны быть примерно одинаковыми. Если точность на обучающей выборке оказывается сильно выше - это означает, что модель переобучилась."
      ],
      "metadata": {
        "id": "U5iWEkd7J8Z0"
      }
    },
    {
      "cell_type": "code",
      "source": [
        "print(f'\\033[33mДостоверность для случайных предсказаний: {metrics.accuracy_score(y_test, y_pred_cub)}')\n",
        "print(f'Достоверность для случайных предсказаний (тренировочный): {metrics.accuracy_score(y_train, y_train_pred_cub)}')\n",
        "print(f'Точность для случайных предсказаний: {metrics.precision_score(y_true=y_test, y_pred=y_pred_cub, average=\"weighted\")}')\n",
        "print(f'Полнота для случайных предсказаний: {metrics.recall_score(y_test, y_pred_cub, average=\"weighted\")}\\n')\n",
        "\n",
        "print(f'\\033[32mДостоверность для линейной регрессии: {metrics.accuracy_score(y_test, y_pred_lr)}')\n",
        "print(f'Достоверность для линейной регрессии (тренировочный): {metrics.accuracy_score(y_train, y_train_pred_lr)}')\n",
        "print(f'Точность для линейной регрессии: {metrics.precision_score(y_true=y_test, y_pred=y_pred_lr, average=\"weighted\")}')\n",
        "print(f'Полнота для линейной регрессии: {metrics.recall_score(y_test, y_pred_lr, average=\"weighted\")}\\n')\n",
        "\n",
        "print(f'\\033[35mДостоверность для метода линейного дискриминантного анализа: {metrics.accuracy_score(y_test, y_pred_ld)}')\n",
        "print(f'Достоверность для метода линейного дискриминантного анализа (тренировочный): {metrics.accuracy_score(y_train, y_train_pred_ld)}')\n",
        "print(f'Точность для метода линейного дискриминантного анализа: {metrics.precision_score(y_true=y_test, y_pred=y_pred_ld, average=\"weighted\")}')\n",
        "print(f'Полнота для метода линейного дискриминантного анализа: {metrics.recall_score(y_test, y_pred_ld, average=\"weighted\")}\\n')\n",
        "\n",
        "print(f'\\033[36mДостоверность для метода ближайших соседей: {metrics.accuracy_score(y_test, y_pred_KNC)}')\n",
        "print(f'Достоверность для метода ближайших соседей (тренировочный): {metrics.accuracy_score(y_train, y_train_pred_KNC)}')\n",
        "print(f'Точность для метода ближайших соседей: {metrics.precision_score(y_true=y_test, y_pred=y_pred_KNC, average=\"weighted\")}')\n",
        "print(f'Полнота для метода ближайших соседей: {metrics.recall_score(y_test, y_pred_KNC, average=\"weighted\")}')\n",
        "\n",
        "print('\\033[0m')"
      ],
      "metadata": {
        "colab": {
          "base_uri": "https://localhost:8080/"
        },
        "id": "OBV_nzBWLDfQ",
        "outputId": "b0f7b34b-5a90-4666-b456-30ffae6b346b"
      },
      "execution_count": 132,
      "outputs": [
        {
          "output_type": "stream",
          "name": "stdout",
          "text": [
            "\u001b[33mДостоверность для случайных предсказаний: 0.5597826086956522\n",
            "Достоверность для случайных предсказаний (тренировочный): 0.47275204359673023\n",
            "Точность для случайных предсказаний: 0.5607834314658164\n",
            "Полнота для случайных предсказаний: 0.5597826086956522\n",
            "\n",
            "\u001b[32mДостоверность для линейной регрессии: 0.7663043478260869\n",
            "Достоверность для линейной регрессии (тренировочный): 0.8787465940054496\n",
            "Точность для линейной регрессии: 0.7665020582492259\n",
            "Полнота для линейной регрессии: 0.7663043478260869\n",
            "\n",
            "\u001b[35mДостоверность для метода линейного дискриминантного анализа: 0.782608695652174\n",
            "Достоверность для метода линейного дискриминантного анализа (тренировочный): 0.8814713896457765\n",
            "Точность для метода линейного дискриминантного анализа: 0.782432712215321\n",
            "Полнота для метода линейного дискриминантного анализа: 0.782608695652174\n",
            "\n",
            "\u001b[36mДостоверность для метода ближайших соседей: 0.6467391304347826\n",
            "Достоверность для метода ближайших соседей (тренировочный): 0.7901907356948229\n",
            "Точность для метода ближайших соседей: 0.6483593737000616\n",
            "Полнота для метода ближайших соседей: 0.6467391304347826\n",
            "\u001b[0m\n"
          ]
        }
      ]
    },
    {
      "cell_type": "markdown",
      "source": [
        "5) Сделайте вывод о применимости каждой модели на основе метрики  F1-score (чем выше её значение, тем модель эффективнее)."
      ],
      "metadata": {
        "id": "QZrNabYXNHOA"
      }
    },
    {
      "cell_type": "code",
      "source": [
        "f1_score_cub = f1_score(y_test, y_pred_cub)\n",
        "print(f'Метрика f1 для случайного предсказания: {f1_score_cub}')"
      ],
      "metadata": {
        "colab": {
          "base_uri": "https://localhost:8080/"
        },
        "id": "5DjcsGnBTS9f",
        "outputId": "89b9bbae-41be-4dc5-c3c7-852f4671891c"
      },
      "execution_count": 133,
      "outputs": [
        {
          "output_type": "stream",
          "name": "stdout",
          "text": [
            "Метрика f1 для случайного предсказания: 0.5371428571428571\n"
          ]
        }
      ]
    },
    {
      "cell_type": "code",
      "source": [
        "f1_score_lr = f1_score(y_test, y_pred_lr)\n",
        "print(f'Метрика f1 для линейной регрессии: {f1_score_lr}')"
      ],
      "metadata": {
        "colab": {
          "base_uri": "https://localhost:8080/"
        },
        "id": "gvQTptLrj82k",
        "outputId": "285d65b8-f09f-4a39-ffe1-6a75132fae40"
      },
      "execution_count": 134,
      "outputs": [
        {
          "output_type": "stream",
          "name": "stdout",
          "text": [
            "Метрика f1 для линейной регрессии: 0.7514450867052023\n"
          ]
        }
      ]
    },
    {
      "cell_type": "code",
      "source": [
        "f1_score_ld = f1_score(y_test, y_pred_ld)\n",
        "print(f'Метрика f1 для метода линейного дискреминантного анализа: {f1_score_ld}')"
      ],
      "metadata": {
        "colab": {
          "base_uri": "https://localhost:8080/"
        },
        "id": "WoF4RFWXkSl8",
        "outputId": "3934e5eb-a478-4911-9609-669be7b7ff3a"
      },
      "execution_count": 135,
      "outputs": [
        {
          "output_type": "stream",
          "name": "stdout",
          "text": [
            "Метрика f1 для метода линейного дискреминантного анализа: 0.7647058823529412\n"
          ]
        }
      ]
    },
    {
      "cell_type": "code",
      "source": [
        "f1_score_KNC = f1_score(y_test,  y_pred_KNC)\n",
        "print(f'Метрика f1 для метода ближайших соседей: {f1_score_KNC}')"
      ],
      "metadata": {
        "colab": {
          "base_uri": "https://localhost:8080/"
        },
        "id": "yYf29JxOkc0A",
        "outputId": "3a12a46f-83e7-44a5-932d-ecf242e61bcf"
      },
      "execution_count": 136,
      "outputs": [
        {
          "output_type": "stream",
          "name": "stdout",
          "text": [
            "Метрика f1 для метода ближайших соседей: 0.5751633986928104\n"
          ]
        }
      ]
    },
    {
      "cell_type": "markdown",
      "source": [
        "6) На одном графике постройте ROC-кривые для каждой модели. Визуально определите самую эффективную и наименее пригодную модели. Чем ROC-кривая выше, тем модель более эффективна."
      ],
      "metadata": {
        "id": "J4EGiy1MRAnU"
      }
    },
    {
      "cell_type": "code",
      "source": [
        "fpr_cub, tpr_cub, treshold_cub = roc_curve(y_test, y_pred_cub)\n",
        "roc_auc_cub = auc(fpr_cub, tpr_cub)\n",
        "roc_auc_cub"
      ],
      "metadata": {
        "colab": {
          "base_uri": "https://localhost:8080/"
        },
        "id": "MI1o26IFRZZG",
        "outputId": "88675b51-c9dc-49fa-a109-4ec539a3e42c"
      },
      "execution_count": 137,
      "outputs": [
        {
          "output_type": "execute_result",
          "data": {
            "text/plain": [
              "0.5589700996677741"
            ]
          },
          "metadata": {},
          "execution_count": 137
        }
      ]
    },
    {
      "cell_type": "code",
      "source": [
        "fpr_lr, tpr_lr, treshold_lr = roc_curve(y_test, y_pred_lr)\n",
        "roc_auc_lr = auc(fpr_lr, tpr_lr)\n",
        "roc_auc_lr"
      ],
      "metadata": {
        "colab": {
          "base_uri": "https://localhost:8080/"
        },
        "id": "6tbFtd9JSSci",
        "outputId": "701a4c85-78b4-4452-f878-517f690ff617"
      },
      "execution_count": 138,
      "outputs": [
        {
          "output_type": "execute_result",
          "data": {
            "text/plain": [
              "0.7656620787850024"
            ]
          },
          "metadata": {},
          "execution_count": 138
        }
      ]
    },
    {
      "cell_type": "code",
      "source": [
        "fpr_ld, tpr_ld, treshold_ld = roc_curve(y_test, y_pred_ld)\n",
        "roc_auc_ld = auc(fpr_ld, tpr_ld)\n",
        "roc_auc_ld"
      ],
      "metadata": {
        "colab": {
          "base_uri": "https://localhost:8080/"
        },
        "id": "C_zREaERSewN",
        "outputId": "fba75e51-06bf-4307-a080-4e9bcc80b562"
      },
      "execution_count": 139,
      "outputs": [
        {
          "output_type": "execute_result",
          "data": {
            "text/plain": [
              "0.7809682012339819"
            ]
          },
          "metadata": {},
          "execution_count": 139
        }
      ]
    },
    {
      "cell_type": "code",
      "source": [
        "fpr_KNC, tpr_KNC, treshold_KNC = roc_curve(y_test, y_pred_KNC)\n",
        "roc_auc_KNC = auc(fpr_KNC, tpr_KNC)\n",
        "roc_auc_KNC"
      ],
      "metadata": {
        "colab": {
          "base_uri": "https://localhost:8080/"
        },
        "id": "SYxfWqe1SmuF",
        "outputId": "63450017-86dc-4d16-e4e1-b987416cf237"
      },
      "execution_count": 140,
      "outputs": [
        {
          "output_type": "execute_result",
          "data": {
            "text/plain": [
              "0.6384670147128618"
            ]
          },
          "metadata": {},
          "execution_count": 140
        }
      ]
    },
    {
      "cell_type": "markdown",
      "source": [],
      "metadata": {
        "id": "vwe5CTTCVRbD"
      }
    },
    {
      "cell_type": "code",
      "source": [
        "plt.plot(fpr_ld, tpr_ld, color='darkorange', label='ROC кривая (area = %0.6f)' % roc_auc_ld)\n",
        "plt.plot(fpr_lr, tpr_lr, color='purple', label='ROC кривая (area = %0.6f)' % roc_auc_lr)\n",
        "plt.plot(fpr_KNC, tpr_KNC, color='cyan', label='ROC кривая (area = %0.6f)' % roc_auc_KNC)\n",
        "plt.plot(fpr_cub, tpr_cub, color='green', label='ROC кривая (area = %0.6f)' % roc_auc_cub)\n",
        "\n",
        "plt.plot([0, 1], [0, 1], color='navy', linestyle='--')\n",
        "plt.xlim([-0.05, 1.0])\n",
        "plt.ylim([0.0, 1.05])\n",
        "plt.xlabel('False Positive Rate')\n",
        "plt.ylabel('True Positive Rate')\n",
        "plt.title('Пример ROC-кривой')\n",
        "plt.legend(loc=\"lower right\")\n",
        "plt.show()"
      ],
      "metadata": {
        "colab": {
          "base_uri": "https://localhost:8080/",
          "height": 295
        },
        "id": "MXEml7hOTNli",
        "outputId": "ac2f53c4-58e4-411c-86a9-da5247e33ba3"
      },
      "execution_count": 141,
      "outputs": [
        {
          "output_type": "display_data",
          "data": {
            "text/plain": [
              "<Figure size 432x288 with 1 Axes>"
            ],
            "image/png": "[encoded data removed]"
          },
          "metadata": {
            "needs_background": "light"
          }
        }
      ]
    },
    {
      "cell_type": "markdown",
      "source": [
        "7) Выведите соответствующие значения AUC (площадь под ROC - кривой) и расположите модели в порядке пригодности.\n"
      ],
      "metadata": {
        "id": "lIBzBnTVVcxr"
      }
    },
    {
      "cell_type": "code",
      "source": [
        "roc_auc_ld = auc(fpr_ld, tpr_ld)\n",
        "print(f'AUC для метода линейного дикреминантного анализа: {roc_auc_ld}')"
      ],
      "metadata": {
        "colab": {
          "base_uri": "https://localhost:8080/"
        },
        "id": "im66Jd26VsDQ",
        "outputId": "284620f2-f954-4c4a-c67d-057a0c1544c8"
      },
      "execution_count": 144,
      "outputs": [
        {
          "output_type": "stream",
          "name": "stdout",
          "text": [
            "AUC для метода линейного дикреминантного анализа: 0.7809682012339819\n"
          ]
        }
      ]
    },
    {
      "cell_type": "code",
      "source": [
        "roc_auc_lr = auc(fpr_lr, tpr_lr)\n",
        "print(f'AUC для линейной регресии: {roc_auc_lr}')"
      ],
      "metadata": {
        "colab": {
          "base_uri": "https://localhost:8080/"
        },
        "id": "lB3bfSSdVkZr",
        "outputId": "b2f0b6da-720d-4879-9a39-ff3f8d3788b0"
      },
      "execution_count": 143,
      "outputs": [
        {
          "output_type": "stream",
          "name": "stdout",
          "text": [
            "AUC для линейной регресии: 0.7656620787850024\n"
          ]
        }
      ]
    },
    {
      "cell_type": "code",
      "source": [
        "roc_auc_KNC = auc(fpr_KNC, tpr_KNC)\n",
        "print(f'AUC для метода ближайших соседей: {roc_auc_KNC}')"
      ],
      "metadata": {
        "colab": {
          "base_uri": "https://localhost:8080/"
        },
        "id": "hparc85IV33N",
        "outputId": "5699bcc6-dabf-495c-c7ba-3ed384a29fb0"
      },
      "execution_count": 145,
      "outputs": [
        {
          "output_type": "stream",
          "name": "stdout",
          "text": [
            "AUC для метода ближайших соседей: 0.6384670147128618\n"
          ]
        }
      ]
    },
    {
      "cell_type": "code",
      "source": [
        "roc_auc_cub = auc(fpr_cub, tpr_cub)\n",
        "print(f'AUC для случайного предсказания: {roc_auc_cub}')"
      ],
      "metadata": {
        "colab": {
          "base_uri": "https://localhost:8080/"
        },
        "id": "ZPBwLJNUVeoL",
        "outputId": "19ee96d5-1e2f-4ca5-8985-068ce84543aa"
      },
      "execution_count": 142,
      "outputs": [
        {
          "output_type": "stream",
          "name": "stdout",
          "text": [
            "AUC для случайного предсказания: 0.5589700996677741\n"
          ]
        }
      ]
    }
  ]
}
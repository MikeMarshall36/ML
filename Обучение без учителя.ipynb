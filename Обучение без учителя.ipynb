{
  "nbformat": 4,
  "nbformat_minor": 0,
  "metadata": {
    "colab": {
      "provenance": []
    },
    "kernelspec": {
      "name": "python3",
      "display_name": "Python 3"
    },
    "language_info": {
      "name": "python"
    }
  },
  "cells": [
    {
      "cell_type": "code",
      "execution_count": null,
      "metadata": {
        "id": "PawLzpsK7CNI"
      },
      "outputs": [],
      "source": [
        "import numpy as np\n",
        "import pandas as pd\n",
        "import matplotlib.pyplot as plt\n",
        "from sklearn.metrics import silhouette_score, calinski_harabasz_score\n",
        "import matplotlib.cm as cm\n",
        "from sklearn.cluster import KMeans\n",
        "import seaborn as sns"
      ]
    },
    {
      "cell_type": "markdown",
      "source": [
        "1. Загрузите прилагающийся датасет."
      ],
      "metadata": {
        "id": "5sDSZt1u_FTy"
      }
    },
    {
      "cell_type": "code",
      "source": [
        "df = pd.read_csv('Mall_Customers.csv')\n",
        "df.head()"
      ],
      "metadata": {
        "colab": {
          "base_uri": "https://localhost:8080/",
          "height": 206
        },
        "id": "Engxr4iC7ykZ",
        "outputId": "8ac0b29f-db08-4275-e901-f23e91c0be54"
      },
      "execution_count": null,
      "outputs": [
        {
          "output_type": "execute_result",
          "data": {
            "text/plain": [
              "   CustomerID   Genre  Age  Annual Income (k$)  Spending Score (1-100)\n",
              "0           1    Male   19                  15                      39\n",
              "1           2    Male   21                  15                      81\n",
              "2           3  Female   20                  16                       6\n",
              "3           4  Female   23                  16                      77\n",
              "4           5  Female   31                  17                      40"
            ],
            "text/html": [
              "\n",
              "  <div id=\"df-5abe89cb-7864-4b35-94a8-83bcd31a92ec\">\n",
              "    <div class=\"colab-df-container\">\n",
              "      <div>\n",
              "<style scoped>\n",
              "    .dataframe tbody tr th:only-of-type {\n",
              "        vertical-align: middle;\n",
              "    }\n",
              "\n",
              "    .dataframe tbody tr th {\n",
              "        vertical-align: top;\n",
              "    }\n",
              "\n",
              "    .dataframe thead th {\n",
              "        text-align: right;\n",
              "    }\n",
              "</style>\n",
              "<table border=\"1\" class=\"dataframe\">\n",
              "  <thead>\n",
              "    <tr style=\"text-align: right;\">\n",
              "      <th></th>\n",
              "      <th>CustomerID</th>\n",
              "      <th>Genre</th>\n",
              "      <th>Age</th>\n",
              "      <th>Annual Income (k$)</th>\n",
              "      <th>Spending Score (1-100)</th>\n",
              "    </tr>\n",
              "  </thead>\n",
              "  <tbody>\n",
              "    <tr>\n",
              "      <th>0</th>\n",
              "      <td>1</td>\n",
              "      <td>Male</td>\n",
              "      <td>19</td>\n",
              "      <td>15</td>\n",
              "      <td>39</td>\n",
              "    </tr>\n",
              "    <tr>\n",
              "      <th>1</th>\n",
              "      <td>2</td>\n",
              "      <td>Male</td>\n",
              "      <td>21</td>\n",
              "      <td>15</td>\n",
              "      <td>81</td>\n",
              "    </tr>\n",
              "    <tr>\n",
              "      <th>2</th>\n",
              "      <td>3</td>\n",
              "      <td>Female</td>\n",
              "      <td>20</td>\n",
              "      <td>16</td>\n",
              "      <td>6</td>\n",
              "    </tr>\n",
              "    <tr>\n",
              "      <th>3</th>\n",
              "      <td>4</td>\n",
              "      <td>Female</td>\n",
              "      <td>23</td>\n",
              "      <td>16</td>\n",
              "      <td>77</td>\n",
              "    </tr>\n",
              "    <tr>\n",
              "      <th>4</th>\n",
              "      <td>5</td>\n",
              "      <td>Female</td>\n",
              "      <td>31</td>\n",
              "      <td>17</td>\n",
              "      <td>40</td>\n",
              "    </tr>\n",
              "  </tbody>\n",
              "</table>\n",
              "</div>\n",
              "      <button class=\"colab-df-convert\" onclick=\"convertToInteractive('df-5abe89cb-7864-4b35-94a8-83bcd31a92ec')\"\n",
              "              title=\"Convert this dataframe to an interactive table.\"\n",
              "              style=\"display:none;\">\n",
              "        \n",
              "  <svg xmlns=\"http://www.w3.org/2000/svg\" height=\"24px\"viewBox=\"0 0 24 24\"\n",
              "       width=\"24px\">\n",
              "    <path d=\"M0 0h24v24H0V0z\" fill=\"none\"/>\n",
              "    <path d=\"M18.56 5.44l.94 2.06.94-2.06 2.06-.94-2.06-.94-.94-2.06-.94 2.06-2.06.94zm-11 1L8.5 8.5l.94-2.06 2.06-.94-2.06-.94L8.5 2.5l-.94 2.06-2.06.94zm10 10l.94 2.06.94-2.06 2.06-.94-2.06-.94-.94-2.06-.94 2.06-2.06.94z\"/><path d=\"M17.41 7.96l-1.37-1.37c-.4-.4-.92-.59-1.43-.59-.52 0-1.04.2-1.43.59L10.3 9.45l-7.72 7.72c-.78.78-.78 2.05 0 2.83L4 21.41c.39.39.9.59 1.41.59.51 0 1.02-.2 1.41-.59l7.78-7.78 2.81-2.81c.8-.78.8-2.07 0-2.86zM5.41 20L4 18.59l7.72-7.72 1.47 1.35L5.41 20z\"/>\n",
              "  </svg>\n",
              "      </button>\n",
              "      \n",
              "  <style>\n",
              "    .colab-df-container {\n",
              "      display:flex;\n",
              "      flex-wrap:wrap;\n",
              "      gap: 12px;\n",
              "    }\n",
              "\n",
              "    .colab-df-convert {\n",
              "      background-color: #E8F0FE;\n",
              "      border: none;\n",
              "      border-radius: 50%;\n",
              "      cursor: pointer;\n",
              "      display: none;\n",
              "      fill: #1967D2;\n",
              "      height: 32px;\n",
              "      padding: 0 0 0 0;\n",
              "      width: 32px;\n",
              "    }\n",
              "\n",
              "    .colab-df-convert:hover {\n",
              "      background-color: #E2EBFA;\n",
              "      box-shadow: 0px 1px 2px rgba(60, 64, 67, 0.3), 0px 1px 3px 1px rgba(60, 64, 67, 0.15);\n",
              "      fill: #174EA6;\n",
              "    }\n",
              "\n",
              "    [theme=dark] .colab-df-convert {\n",
              "      background-color: #3B4455;\n",
              "      fill: #D2E3FC;\n",
              "    }\n",
              "\n",
              "    [theme=dark] .colab-df-convert:hover {\n",
              "      background-color: #434B5C;\n",
              "      box-shadow: 0px 1px 3px 1px rgba(0, 0, 0, 0.15);\n",
              "      filter: drop-shadow(0px 1px 2px rgba(0, 0, 0, 0.3));\n",
              "      fill: #FFFFFF;\n",
              "    }\n",
              "  </style>\n",
              "\n",
              "      <script>\n",
              "        const buttonEl =\n",
              "          document.querySelector('#df-5abe89cb-7864-4b35-94a8-83bcd31a92ec button.colab-df-convert');\n",
              "        buttonEl.style.display =\n",
              "          google.colab.kernel.accessAllowed ? 'block' : 'none';\n",
              "\n",
              "        async function convertToInteractive(key) {\n",
              "          const element = document.querySelector('#df-5abe89cb-7864-4b35-94a8-83bcd31a92ec');\n",
              "          const dataTable =\n",
              "            await google.colab.kernel.invokeFunction('convertToInteractive',\n",
              "                                                     [key], {});\n",
              "          if (!dataTable) return;\n",
              "\n",
              "          const docLinkHtml = 'Like what you see? Visit the ' +\n",
              "            '<a target=\"_blank\" href=https://colab.research.google.com/notebooks/data_table.ipynb>data table notebook</a>'\n",
              "            + ' to learn more about interactive tables.';\n",
              "          element.innerHTML = '';\n",
              "          dataTable['output_type'] = 'display_data';\n",
              "          await google.colab.output.renderOutput(dataTable, element);\n",
              "          const docLink = document.createElement('div');\n",
              "          docLink.innerHTML = docLinkHtml;\n",
              "          element.appendChild(docLink);\n",
              "        }\n",
              "      </script>\n",
              "    </div>\n",
              "  </div>\n",
              "  "
            ]
          },
          "metadata": {},
          "execution_count": 442
        }
      ]
    },
    {
      "cell_type": "markdown",
      "source": [
        "2. Проверьте датасет на наличие пустых значений. Если есть пустые значения, то заменить их на наиболее подходящие."
      ],
      "metadata": {
        "id": "uqbLm71L_JWT"
      }
    },
    {
      "cell_type": "code",
      "source": [
        "print(df.isna().sum())"
      ],
      "metadata": {
        "colab": {
          "base_uri": "https://localhost:8080/"
        },
        "id": "WiwUaLuD8YpG",
        "outputId": "fca48118-b7d1-4f66-f2e8-ce93bfc931c1"
      },
      "execution_count": null,
      "outputs": [
        {
          "output_type": "stream",
          "name": "stdout",
          "text": [
            "CustomerID                0\n",
            "Genre                     0\n",
            "Age                       0\n",
            "Annual Income (k$)        0\n",
            "Spending Score (1-100)    0\n",
            "dtype: int64\n"
          ]
        }
      ]
    },
    {
      "cell_type": "markdown",
      "source": [
        "3. Постройте графическую интерпретацию значений датасета. В качестве x-координаты используйте Annual Income, в качестве y-координаты Spending Score."
      ],
      "metadata": {
        "id": "jiHavOvT_Soq"
      }
    },
    {
      "cell_type": "code",
      "source": [
        "sns.scatterplot(y='Spending Score (1-100)', x='Annual Income (k$)', data=df);"
      ],
      "metadata": {
        "colab": {
          "base_uri": "https://localhost:8080/",
          "height": 279
        },
        "id": "SaNo_C3b-ToC",
        "outputId": "18333189-bd29-4de8-9e03-8f7c3b2a8296"
      },
      "execution_count": null,
      "outputs": [
        {
          "output_type": "display_data",
          "data": {
            "text/plain": [
              "<Figure size 432x288 with 1 Axes>"
            ],
            "image/png": "[encoded data removed]"
          },
          "metadata": {
            "needs_background": "light"
          }
        }
      ]
    },
    {
      "cell_type": "markdown",
      "source": [
        "4. Определите наилучшее число кластеров с помощью графической зависимости числа кластеров от суммы квадратов расстояний значений датасета до центра кластера."
      ],
      "metadata": {
        "id": "sUVMJJsC_9tV"
      }
    },
    {
      "cell_type": "code",
      "source": [
        "x = df.iloc[:, [3, 4]].values"
      ],
      "metadata": {
        "id": "RshiRwwAAAi7"
      },
      "execution_count": null,
      "outputs": []
    },
    {
      "cell_type": "code",
      "source": [
        "wcss = []\n",
        "for i in range(1, 11):\n",
        "    kmeans = KMeans(n_clusters = i, init='k-means++', random_state=42)\n",
        "    kmeans.fit(x) \n",
        "    wcss.append(kmeans.inertia_)"
      ],
      "metadata": {
        "id": "GKytaFobBgSK"
      },
      "execution_count": null,
      "outputs": []
    },
    {
      "cell_type": "code",
      "source": [
        "plt.plot(range(1, 11), wcss)\n",
        "plt.title('Метод локтя')\n",
        "plt.xlabel('Количество кластеров')\n",
        "plt.ylabel('Сумма квадратов внутри кластера')"
      ],
      "metadata": {
        "colab": {
          "base_uri": "https://localhost:8080/",
          "height": 312
        },
        "id": "Smi4YVYACAFK",
        "outputId": "fb80cced-2fef-47aa-a8ee-2bd5de45a3cc"
      },
      "execution_count": null,
      "outputs": [
        {
          "output_type": "execute_result",
          "data": {
            "text/plain": [
              "Text(0, 0.5, 'Сумма квадратов внутри кластера')"
            ]
          },
          "metadata": {},
          "execution_count": 447
        },
        {
          "output_type": "display_data",
          "data": {
            "text/plain": [
              "<Figure size 432x288 with 1 Axes>"
            ],
            "image/png": "[encoded data removed]"
          },
          "metadata": {
            "needs_background": "light"
          }
        }
      ]
    },
    {
      "cell_type": "markdown",
      "source": [
        "5. Обучить модель К-средних и предсказать кластер для каждого значения из датасета."
      ],
      "metadata": {
        "id": "YWQmxg84Fm0r"
      }
    },
    {
      "cell_type": "code",
      "source": [
        "kmeans_method = KMeans(n_clusters = 5, init='k-means++', random_state=42)\n",
        "y_kmeans = kmeans_method.fit_predict(x)"
      ],
      "metadata": {
        "id": "t7qgnkraFmQh"
      },
      "execution_count": null,
      "outputs": []
    },
    {
      "cell_type": "markdown",
      "source": [
        "6.Построить графическую интерпретацию из пункта 3, с центрами кластеров."
      ],
      "metadata": {
        "id": "0OvW8OlSJKA1"
      }
    },
    {
      "cell_type": "code",
      "source": [
        "sns.scatterplot(y='Spending Score (1-100)', x='Annual Income (k$)', data=df)\n",
        "plt.scatter(kmeans_method.cluster_centers_[:,0],kmeans_method.cluster_centers_[:,1],c='red');"
      ],
      "metadata": {
        "colab": {
          "base_uri": "https://localhost:8080/",
          "height": 279
        },
        "id": "1Ox5ykqsJNZV",
        "outputId": "50a3a1d0-4573-4bfb-e467-48016d97fc78"
      },
      "execution_count": null,
      "outputs": [
        {
          "output_type": "display_data",
          "data": {
            "text/plain": [
              "<Figure size 432x288 with 1 Axes>"
            ],
            "image/png": "[encoded data removed]"
          },
          "metadata": {
            "needs_background": "light"
          }
        }
      ]
    },
    {
      "cell_type": "markdown",
      "source": [
        "7. Построить графическую интерпретацию с центрами кластеров, в качестве x-координаты используйте Возраст, в качестве y-координаты Spending Score."
      ],
      "metadata": {
        "id": "fGL4YIkOGPny"
      }
    },
    {
      "cell_type": "code",
      "source": [
        "X1 = df.iloc[:, [2, 4]].values\n",
        "X1"
      ],
      "metadata": {
        "colab": {
          "base_uri": "https://localhost:8080/"
        },
        "id": "7jk5ubcgM7ZR",
        "outputId": "a9b5e601-07fc-4549-ae64-53fd79cf7fb2"
      },
      "execution_count": null,
      "outputs": [
        {
          "output_type": "execute_result",
          "data": {
            "text/plain": [
              "array([[19, 39],\n",
              "       [21, 81],\n",
              "       [20,  6],\n",
              "       [23, 77],\n",
              "       [31, 40],\n",
              "       [22, 76],\n",
              "       [35,  6],\n",
              "       [23, 94],\n",
              "       [64,  3],\n",
              "       [30, 72],\n",
              "       [67, 14],\n",
              "       [35, 99],\n",
              "       [58, 15],\n",
              "       [24, 77],\n",
              "       [37, 13],\n",
              "       [22, 79],\n",
              "       [35, 35],\n",
              "       [20, 66],\n",
              "       [52, 29],\n",
              "       [35, 98],\n",
              "       [35, 35],\n",
              "       [25, 73],\n",
              "       [46,  5],\n",
              "       [31, 73],\n",
              "       [54, 14],\n",
              "       [29, 82],\n",
              "       [45, 32],\n",
              "       [35, 61],\n",
              "       [40, 31],\n",
              "       [23, 87],\n",
              "       [60,  4],\n",
              "       [21, 73],\n",
              "       [53,  4],\n",
              "       [18, 92],\n",
              "       [49, 14],\n",
              "       [21, 81],\n",
              "       [42, 17],\n",
              "       [30, 73],\n",
              "       [36, 26],\n",
              "       [20, 75],\n",
              "       [65, 35],\n",
              "       [24, 92],\n",
              "       [48, 36],\n",
              "       [31, 61],\n",
              "       [49, 28],\n",
              "       [24, 65],\n",
              "       [50, 55],\n",
              "       [27, 47],\n",
              "       [29, 42],\n",
              "       [31, 42],\n",
              "       [49, 52],\n",
              "       [33, 60],\n",
              "       [31, 54],\n",
              "       [59, 60],\n",
              "       [50, 45],\n",
              "       [47, 41],\n",
              "       [51, 50],\n",
              "       [69, 46],\n",
              "       [27, 51],\n",
              "       [53, 46],\n",
              "       [70, 56],\n",
              "       [19, 55],\n",
              "       [67, 52],\n",
              "       [54, 59],\n",
              "       [63, 51],\n",
              "       [18, 59],\n",
              "       [43, 50],\n",
              "       [68, 48],\n",
              "       [19, 59],\n",
              "       [32, 47],\n",
              "       [70, 55],\n",
              "       [47, 42],\n",
              "       [60, 49],\n",
              "       [60, 56],\n",
              "       [59, 47],\n",
              "       [26, 54],\n",
              "       [45, 53],\n",
              "       [40, 48],\n",
              "       [23, 52],\n",
              "       [49, 42],\n",
              "       [57, 51],\n",
              "       [38, 55],\n",
              "       [67, 41],\n",
              "       [46, 44],\n",
              "       [21, 57],\n",
              "       [48, 46],\n",
              "       [55, 58],\n",
              "       [22, 55],\n",
              "       [34, 60],\n",
              "       [50, 46],\n",
              "       [68, 55],\n",
              "       [18, 41],\n",
              "       [48, 49],\n",
              "       [40, 40],\n",
              "       [32, 42],\n",
              "       [24, 52],\n",
              "       [47, 47],\n",
              "       [27, 50],\n",
              "       [48, 42],\n",
              "       [20, 49],\n",
              "       [23, 41],\n",
              "       [49, 48],\n",
              "       [67, 59],\n",
              "       [26, 55],\n",
              "       [49, 56],\n",
              "       [21, 42],\n",
              "       [66, 50],\n",
              "       [54, 46],\n",
              "       [68, 43],\n",
              "       [66, 48],\n",
              "       [65, 52],\n",
              "       [19, 54],\n",
              "       [38, 42],\n",
              "       [19, 46],\n",
              "       [18, 48],\n",
              "       [19, 50],\n",
              "       [63, 43],\n",
              "       [49, 59],\n",
              "       [51, 43],\n",
              "       [50, 57],\n",
              "       [27, 56],\n",
              "       [38, 40],\n",
              "       [40, 58],\n",
              "       [39, 91],\n",
              "       [23, 29],\n",
              "       [31, 77],\n",
              "       [43, 35],\n",
              "       [40, 95],\n",
              "       [59, 11],\n",
              "       [38, 75],\n",
              "       [47,  9],\n",
              "       [39, 75],\n",
              "       [25, 34],\n",
              "       [31, 71],\n",
              "       [20,  5],\n",
              "       [29, 88],\n",
              "       [44,  7],\n",
              "       [32, 73],\n",
              "       [19, 10],\n",
              "       [35, 72],\n",
              "       [57,  5],\n",
              "       [32, 93],\n",
              "       [28, 40],\n",
              "       [32, 87],\n",
              "       [25, 12],\n",
              "       [28, 97],\n",
              "       [48, 36],\n",
              "       [32, 74],\n",
              "       [34, 22],\n",
              "       [34, 90],\n",
              "       [43, 17],\n",
              "       [39, 88],\n",
              "       [44, 20],\n",
              "       [38, 76],\n",
              "       [47, 16],\n",
              "       [27, 89],\n",
              "       [37,  1],\n",
              "       [30, 78],\n",
              "       [34,  1],\n",
              "       [30, 73],\n",
              "       [56, 35],\n",
              "       [29, 83],\n",
              "       [19,  5],\n",
              "       [31, 93],\n",
              "       [50, 26],\n",
              "       [36, 75],\n",
              "       [42, 20],\n",
              "       [33, 95],\n",
              "       [36, 27],\n",
              "       [32, 63],\n",
              "       [40, 13],\n",
              "       [28, 75],\n",
              "       [36, 10],\n",
              "       [36, 92],\n",
              "       [52, 13],\n",
              "       [30, 86],\n",
              "       [58, 15],\n",
              "       [27, 69],\n",
              "       [59, 14],\n",
              "       [35, 90],\n",
              "       [37, 32],\n",
              "       [32, 86],\n",
              "       [46, 15],\n",
              "       [29, 88],\n",
              "       [41, 39],\n",
              "       [30, 97],\n",
              "       [54, 24],\n",
              "       [28, 68],\n",
              "       [41, 17],\n",
              "       [36, 85],\n",
              "       [34, 23],\n",
              "       [32, 69],\n",
              "       [33,  8],\n",
              "       [38, 91],\n",
              "       [47, 16],\n",
              "       [35, 79],\n",
              "       [45, 28],\n",
              "       [32, 74],\n",
              "       [32, 18],\n",
              "       [30, 83]])"
            ]
          },
          "metadata": {},
          "execution_count": 450
        }
      ]
    },
    {
      "cell_type": "code",
      "source": [
        "wcss1 = []\n",
        "for i in range(1, 11):\n",
        "    kmeans1 = KMeans(n_clusters = i, init='k-means++', random_state=42)\n",
        "    kmeans1.fit(X1)\n",
        "    wcss1.append(kmeans1.inertia_)"
      ],
      "metadata": {
        "id": "N2Y0CF0yNkEr"
      },
      "execution_count": null,
      "outputs": []
    },
    {
      "cell_type": "code",
      "source": [
        "plt.plot(range(1,11),wcss1)\n",
        "plt.show()"
      ],
      "metadata": {
        "colab": {
          "base_uri": "https://localhost:8080/",
          "height": 265
        },
        "id": "f5AwopEgNZ-I",
        "outputId": "0bed30fe-d248-4a19-81ce-a0406bb794ac"
      },
      "execution_count": null,
      "outputs": [
        {
          "output_type": "display_data",
          "data": {
            "text/plain": [
              "<Figure size 432x288 with 1 Axes>"
            ],
            "image/png": "[encoded data removed]"
          },
          "metadata": {
            "needs_background": "light"
          }
        }
      ]
    },
    {
      "cell_type": "code",
      "source": [
        "kmeans_method2 = KMeans(n_clusters = 4, init='k-means++', random_state=42)\n",
        "y_kmeans2 = kmeans_method2.fit_predict(X1)\n",
        "print(y_kmeans2)"
      ],
      "metadata": {
        "colab": {
          "base_uri": "https://localhost:8080/"
        },
        "id": "ZdId6TroN6yk",
        "outputId": "072b5e3c-1464-47a4-a85e-abdb624b7f52"
      },
      "execution_count": null,
      "outputs": [
        {
          "output_type": "stream",
          "name": "stdout",
          "text": [
            "[3 2 1 2 3 2 1 2 1 2 1 2 1 2 1 2 3 3 1 2 3 2 1 2 1 2 1 3 1 2 1 2 1 2 1 2 1\n",
            " 2 1 2 0 2 0 3 1 3 0 3 3 3 0 3 3 0 0 0 0 0 3 0 0 3 0 0 0 3 0 0 3 3 0 0 0 0\n",
            " 0 3 0 3 3 0 0 3 0 0 3 0 0 3 3 0 0 3 0 3 3 3 0 3 0 3 3 0 0 3 0 3 0 0 0 0 0\n",
            " 3 3 3 3 3 0 0 0 0 3 3 3 2 3 2 0 2 1 2 1 2 3 2 1 2 1 2 1 2 1 2 3 2 1 2 0 2\n",
            " 1 2 1 2 1 2 1 2 1 2 1 2 0 2 1 2 1 2 1 2 1 3 1 2 1 2 1 2 1 2 1 2 1 2 1 2 3\n",
            " 2 1 2 1 2 1 2 1 2 1 2 1 2 1 2]\n"
          ]
        }
      ]
    },
    {
      "cell_type": "code",
      "source": [
        "plt.scatter(X1[y_kmeans2 == 0, 0], X1[y_kmeans2 == 0, 1], c='maroon', label='кластер_1')\n",
        "plt.scatter(X1[y_kmeans2 == 1, 0], X1[y_kmeans2 == 1, 1], c='orange', label='кластер_2')\n",
        "plt.scatter(X1[y_kmeans2 == 2, 0], X1[y_kmeans2 == 2, 1], c='green', label='кластер_3')\n",
        "plt.scatter(X1[y_kmeans2 == 3, 0], X1[y_kmeans2 == 3, 1], c='purple', label='кластер_4')\n",
        "plt.scatter(kmeans_method2.cluster_centers_[:,0],kmeans_method2.cluster_centers_[:,1],c='red', label='Центроида');\n",
        "plt.title('Кластеры покупателей')\n",
        "plt.xlabel('Age')\n",
        "plt.ylabel('Spending Score (1-100)')\n",
        "plt.legend();"
      ],
      "metadata": {
        "colab": {
          "base_uri": "https://localhost:8080/",
          "height": 295
        },
        "id": "22KXMNc2GRJa",
        "outputId": "9be850b3-d5a1-4bc7-9988-67505da62c7d"
      },
      "execution_count": null,
      "outputs": [
        {
          "output_type": "display_data",
          "data": {
            "text/plain": [
              "<Figure size 432x288 with 1 Axes>"
            ],
            "image/png": "[encoded data removed]"
          },
          "metadata": {
            "needs_background": "light"
          }
        }
      ]
    },
    {
      "cell_type": "markdown",
      "source": [
        "8. Оцените модель с помощью метрик."
      ],
      "metadata": {
        "id": "HAamYCsXLbrb"
      }
    },
    {
      "cell_type": "code",
      "source": [
        "print(f'Расстояние разделения между кластерами: {silhouette_score(X1, y_kmeans2)}')\n",
        "print(f'Соотношение дисперсий: {calinski_harabasz_score(x, y_kmeans)}')"
      ],
      "metadata": {
        "colab": {
          "base_uri": "https://localhost:8080/"
        },
        "id": "bXDtRSlGLegX",
        "outputId": "7c945274-7261-4845-c375-25c0cb9aaccf"
      },
      "execution_count": null,
      "outputs": [
        {
          "output_type": "stream",
          "name": "stdout",
          "text": [
            "Расстояние разделения между кластерами: 0.49973941540141753\n",
            "Соотношение дисперсий: 247.35899338037282\n"
          ]
        }
      ]
    },
    {
      "cell_type": "markdown",
      "source": [
        "9. Сравните эффективность модели кластеризации в зависимости от количества кластеров. Сделайте выводы."
      ],
      "metadata": {
        "id": "6dV1qntwOqeQ"
      }
    },
    {
      "cell_type": "code",
      "source": [
        "iter_list = list(range(2,25))\n",
        "silhouette_list = []\n",
        "calinski_harabasz_list = []\n",
        "\n",
        "\n",
        "for n_clusters in iter_list:\n",
        "    \n",
        "    kmeans2 = KMeans(n_clusters=n_clusters, init='k-means++', random_state=0)\n",
        "    predicted = kmeans2.fit_predict(X1)\n",
        "    centers = kmeans2.cluster_centers_\n",
        "    \n",
        "    score1 = silhouette_score(X1, predicted)\n",
        "    score2 = calinski_harabasz_score(X1, predicted)\n",
        "    \n",
        "    silhouette_list.append(score1)\n",
        "    calinski_harabasz_list.append(score2)\n",
        "    print(f\"Кол-во: {n_clusters}, silhouette = {round(score1,5)}, calinski_harabasz = {round(score2,5)})\")\n"
      ],
      "metadata": {
        "colab": {
          "base_uri": "https://localhost:8080/"
        },
        "id": "nS6moo29Onik",
        "outputId": "aae7a6d2-83a8-4e7d-f983-436ca9aea98e"
      },
      "execution_count": null,
      "outputs": [
        {
          "output_type": "stream",
          "name": "stdout",
          "text": [
            "Кол-во: 2, silhouette = 0.46923, calinski_harabasz = 249.19429)\n",
            "Кол-во: 3, silhouette = 0.453, calinski_harabasz = 270.08633)\n",
            "Кол-во: 4, silhouette = 0.49974, calinski_harabasz = 332.56313)\n",
            "Кол-во: 5, silhouette = 0.44527, calinski_harabasz = 302.43944)\n",
            "Кол-во: 6, silhouette = 0.44055, calinski_harabasz = 302.46952)\n",
            "Кол-во: 7, silhouette = 0.40833, calinski_harabasz = 321.55914)\n",
            "Кол-во: 8, silhouette = 0.42903, calinski_harabasz = 332.19775)\n",
            "Кол-во: 9, silhouette = 0.41199, calinski_harabasz = 329.64461)\n",
            "Кол-во: 10, silhouette = 0.40531, calinski_harabasz = 331.06297)\n",
            "Кол-во: 11, silhouette = 0.39096, calinski_harabasz = 318.32893)\n",
            "Кол-во: 12, silhouette = 0.3794, calinski_harabasz = 317.62803)\n",
            "Кол-во: 13, silhouette = 0.40573, calinski_harabasz = 319.52722)\n",
            "Кол-во: 14, silhouette = 0.3975, calinski_harabasz = 322.98135)\n",
            "Кол-во: 15, silhouette = 0.42495, calinski_harabasz = 330.3641)\n",
            "Кол-во: 16, silhouette = 0.41172, calinski_harabasz = 334.48142)\n",
            "Кол-во: 17, silhouette = 0.39578, calinski_harabasz = 331.54042)\n",
            "Кол-во: 18, silhouette = 0.40772, calinski_harabasz = 343.32913)\n",
            "Кол-во: 19, silhouette = 0.39924, calinski_harabasz = 337.62394)\n",
            "Кол-во: 20, silhouette = 0.39961, calinski_harabasz = 332.61006)\n",
            "Кол-во: 21, silhouette = 0.41184, calinski_harabasz = 343.27945)\n",
            "Кол-во: 22, silhouette = 0.41265, calinski_harabasz = 350.95419)\n",
            "Кол-во: 23, silhouette = 0.40513, calinski_harabasz = 334.53943)\n",
            "Кол-во: 24, silhouette = 0.4279, calinski_harabasz = 347.42202)\n"
          ]
        }
      ]
    },
    {
      "cell_type": "code",
      "source": [
        "silhouette_list = np.array(silhouette_list)\n",
        "calinski_harabasz_list = np.array(calinski_harabasz_list)\n",
        "\n",
        "silhouette_list = (silhouette_list - silhouette_list.min()) / (silhouette_list.max() - silhouette_list.min())\n",
        "calinski_harabasz_list = (calinski_harabasz_list - calinski_harabasz_list.min()) / (calinski_harabasz_list.max() - calinski_harabasz_list.min())\n"
      ],
      "metadata": {
        "id": "QRmAcMmqQMri"
      },
      "execution_count": null,
      "outputs": []
    },
    {
      "cell_type": "code",
      "source": [
        "x = iter_list\n",
        "y = silhouette_list\n",
        "z = calinski_harabasz_list\n",
        "\n",
        "fig = plt.figure(figsize=(10, 5))\n",
        "plt.plot(x, y, label='silhouette score')\n",
        "plt.plot(x, z, label='calinski harabasz score')\n",
        "\n",
        "plt.title('Сравните эффективность модели кластеризации в зависимости от количества кластеров')\n",
        "\n",
        "plt.xlabel('Кол-во кластеров', fontsize=14)\n",
        "\n",
        "plt.xticks(x)\n",
        "plt.legend();"
      ],
      "metadata": {
        "colab": {
          "base_uri": "https://localhost:8080/",
          "height": 354
        },
        "id": "dxjEG0fdO9me",
        "outputId": "d6a1bfa7-d100-47c1-e89a-72d824300e0d"
      },
      "execution_count": null,
      "outputs": [
        {
          "output_type": "display_data",
          "data": {
            "text/plain": [
              "<Figure size 720x360 with 1 Axes>"
            ],
            "image/png": "[encoded data removed]"
          },
          "metadata": {
            "needs_background": "light"
          }
        }
      ]
    }
  ]
}